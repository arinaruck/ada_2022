{
 "cells": [
  {
   "cell_type": "markdown",
   "metadata": {},
   "source": [
    "# Handling text exercise"
   ]
  },
  {
   "cell_type": "markdown",
   "metadata": {},
   "source": [
    "## Welcome! This exercise consists of:\n",
    "\n",
    "## Part 1: Hands on tutorial\n",
    "1. Implementing the natural language processing pipeline\n",
    "2. Solving four typical language processing tasks:\n",
    "   * Sentiment analysis\n",
    "   * Document classification\n",
    "   * Topic detection\n",
    "   * Semantic analysis\n",
    "\n",
    "\n",
    "### We will be working with four books in plain text:\n",
    "1. Moby-Dick, by Herman Melville\n",
    "2. Frankenstein; or, The Modern Prometheus, by Mary Shelley\n",
    "3. Pride and Prejudice, by Jane Austen\n",
    "4. Dracula, Bram Stoker\n",
    "\n",
    "#### To run this notebook, you need to install the following libraries:\n",
    "\n",
    "conda install nltk gensim spacy <br>\n",
    "pip install pyLDAvis  <br>\n",
    "pip install vaderSentiment  <br>\n",
    "pip install empath <br>\n",
    "python -m spacy download en  <br>\n",
    "python -m nltk.downloader punkt <br>\n",
    "python -m nltk.downloader all-corpora <br>\n",
    "\n",
    "## Part 2: Handling text comprehension questions\n",
    "- You can test your understanding of important NLP concepts. Solutions will be released next week.\n",
    "\n",
    "## Part 3: Coding exercise\n",
    "- When you are done, in \"Handling_text_exercise_2.ipynb\", you will find additional exercises you can work on independently."
   ]
  },
  {
   "cell_type": "code",
   "execution_count": 1,
   "metadata": {},
   "outputs": [
    {
     "name": "stdout",
     "output_type": "stream",
     "text": [
      "Collecting package metadata (current_repodata.json): done\n",
      "Solving environment: done\n",
      "\n",
      "## Package Plan ##\n",
      "\n",
      "  environment location: /Users/arinaruck/opt/anaconda3/envs/ada\n",
      "\n",
      "  added / updated specs:\n",
      "    - gensim\n",
      "    - nltk\n",
      "    - spacy\n",
      "\n",
      "\n",
      "The following packages will be downloaded:\n",
      "\n",
      "    package                    |            build\n",
      "    ---------------------------|-----------------\n",
      "    catalogue-2.0.7            |   py39hecd8cb5_0          33 KB\n",
      "    colorama-0.4.5             |   py39hecd8cb5_0          28 KB\n",
      "    cymem-2.0.6                |   py39he9d5cce_0          34 KB\n",
      "    cython-0.29.32             |   py39he9d5cce_0         1.9 MB\n",
      "    cython-blis-0.7.7          |   py39h67323c0_0         1.7 MB\n",
      "    jinja2-3.1.2               |   py39hecd8cb5_0         215 KB\n",
      "    langcodes-3.3.0            |     pyhd3eb1b0_0         151 KB\n",
      "    murmurhash-1.0.7           |   py39he9d5cce_0          22 KB\n",
      "    pathy-0.6.1                |   py39hecd8cb5_0          74 KB\n",
      "    preshed-3.0.6              |   py39he9d5cce_0          80 KB\n",
      "    pydantic-1.10.2            |   py39hca72f7f_0         2.1 MB\n",
      "    shellingham-1.3.1          |     pyhd3eb1b0_0          12 KB\n",
      "    smart_open-5.2.1           |   py39hecd8cb5_0          77 KB\n",
      "    spacy-3.3.1                |   py39hc29d2bd_0         4.2 MB\n",
      "    spacy-legacy-3.0.9         |   py39hecd8cb5_0          32 KB\n",
      "    spacy-loggers-1.0.1        |     pyhd3eb1b0_0          10 KB\n",
      "    srsly-2.4.3                |   py39he9d5cce_0         468 KB\n",
      "    thinc-8.0.15               |   py39hc29d2bd_0         642 KB\n",
      "    typer-0.4.1                |   py39hecd8cb5_0          49 KB\n",
      "    wasabi-0.9.1               |   py39hecd8cb5_0          41 KB\n",
      "    ------------------------------------------------------------\n",
      "                                           Total:        11.8 MB\n",
      "\n",
      "The following NEW packages will be INSTALLED:\n",
      "\n",
      "  brotlipy           pkgs/main/osx-64::brotlipy-0.7.0-py39h9ed2024_1003 None\n",
      "  catalogue          pkgs/main/osx-64::catalogue-2.0.7-py39hecd8cb5_0 None\n",
      "  cffi               pkgs/main/osx-64::cffi-1.15.1-py39hc55c11b_0 None\n",
      "  charset-normalizer pkgs/main/noarch::charset-normalizer-2.0.4-pyhd3eb1b0_0 None\n",
      "  click              pkgs/main/osx-64::click-8.0.4-py39hecd8cb5_0 None\n",
      "  colorama           pkgs/main/osx-64::colorama-0.4.5-py39hecd8cb5_0 None\n",
      "  cryptography       pkgs/main/osx-64::cryptography-38.0.1-py39hf6deb26_0 None\n",
      "  cymem              pkgs/main/osx-64::cymem-2.0.6-py39he9d5cce_0 None\n",
      "  cython             pkgs/main/osx-64::cython-0.29.32-py39he9d5cce_0 None\n",
      "  cython-blis        pkgs/main/osx-64::cython-blis-0.7.7-py39h67323c0_0 None\n",
      "  gensim             pkgs/main/osx-64::gensim-4.1.2-py39he9d5cce_0 None\n",
      "  idna               pkgs/main/osx-64::idna-3.4-py39hecd8cb5_0 None\n",
      "  jinja2             pkgs/main/osx-64::jinja2-3.1.2-py39hecd8cb5_0 None\n",
      "  joblib             pkgs/main/osx-64::joblib-1.1.1-py39hecd8cb5_0 None\n",
      "  langcodes          pkgs/main/noarch::langcodes-3.3.0-pyhd3eb1b0_0 None\n",
      "  markupsafe         pkgs/main/osx-64::markupsafe-2.1.1-py39hca72f7f_0 None\n",
      "  murmurhash         pkgs/main/osx-64::murmurhash-1.0.7-py39he9d5cce_0 None\n",
      "  nltk               pkgs/main/noarch::nltk-3.7-pyhd3eb1b0_0 None\n",
      "  pathy              pkgs/main/osx-64::pathy-0.6.1-py39hecd8cb5_0 None\n",
      "  preshed            pkgs/main/osx-64::preshed-3.0.6-py39he9d5cce_0 None\n",
      "  pycparser          pkgs/main/noarch::pycparser-2.21-pyhd3eb1b0_0 None\n",
      "  pydantic           pkgs/main/osx-64::pydantic-1.10.2-py39hca72f7f_0 None\n",
      "  pyopenssl          pkgs/main/noarch::pyopenssl-22.0.0-pyhd3eb1b0_0 None\n",
      "  pysocks            pkgs/main/osx-64::pysocks-1.7.1-py39hecd8cb5_0 None\n",
      "  regex              pkgs/main/osx-64::regex-2022.7.9-py39hca72f7f_0 None\n",
      "  requests           pkgs/main/osx-64::requests-2.28.1-py39hecd8cb5_0 None\n",
      "  shellingham        pkgs/main/noarch::shellingham-1.3.1-pyhd3eb1b0_0 None\n",
      "  smart_open         pkgs/main/osx-64::smart_open-5.2.1-py39hecd8cb5_0 None\n",
      "  spacy              pkgs/main/osx-64::spacy-3.3.1-py39hc29d2bd_0 None\n",
      "  spacy-legacy       pkgs/main/osx-64::spacy-legacy-3.0.9-py39hecd8cb5_0 None\n",
      "  spacy-loggers      pkgs/main/noarch::spacy-loggers-1.0.1-pyhd3eb1b0_0 None\n",
      "  srsly              pkgs/main/osx-64::srsly-2.4.3-py39he9d5cce_0 None\n",
      "  thinc              pkgs/main/osx-64::thinc-8.0.15-py39hc29d2bd_0 None\n",
      "  tqdm               pkgs/main/osx-64::tqdm-4.64.1-py39hecd8cb5_0 None\n",
      "  typer              pkgs/main/osx-64::typer-0.4.1-py39hecd8cb5_0 None\n",
      "  typing-extensions  pkgs/main/osx-64::typing-extensions-4.3.0-py39hecd8cb5_0 None\n",
      "  typing_extensions  pkgs/main/osx-64::typing_extensions-4.3.0-py39hecd8cb5_0 None\n",
      "  urllib3            pkgs/main/osx-64::urllib3-1.26.12-py39hecd8cb5_0 None\n",
      "  wasabi             pkgs/main/osx-64::wasabi-0.9.1-py39hecd8cb5_0 None\n",
      "\n",
      "The following packages will be UPDATED:\n",
      "\n",
      "  ca-certificates                     2022.07.19-hecd8cb5_0 --> 2022.10.11-hecd8cb5_0 None\n",
      "  certifi                          2022.9.14-py39hecd8cb5_0 --> 2022.9.24-py39hecd8cb5_0 None\n",
      "  openssl                                 1.1.1q-hca72f7f_0 --> 1.1.1s-hca72f7f_0 None\n",
      "\n",
      "\n",
      "Proceed ([y]/n)? \n",
      "\n",
      "Downloading and Extracting Packages\n",
      "pydantic-1.10.2      | 2.1 MB    | ##################################### | 100% \n",
      "colorama-0.4.5       | 28 KB     | ##################################### | 100% \n",
      "cython-0.29.32       | 1.9 MB    | ##################################### | 100% \n",
      "wasabi-0.9.1         | 41 KB     | ##################################### | 100% \n",
      "preshed-3.0.6        | 80 KB     | ##################################### | 100% \n",
      "cython-blis-0.7.7    | 1.7 MB    | ##################################### | 100% \n",
      "catalogue-2.0.7      | 33 KB     | ##################################### | 100% \n",
      "shellingham-1.3.1    | 12 KB     | ##################################### | 100% \n",
      "typer-0.4.1          | 49 KB     | ##################################### | 100% \n",
      "langcodes-3.3.0      | 151 KB    | ##################################### | 100% \n",
      "smart_open-5.2.1     | 77 KB     | ##################################### | 100% \n",
      "cymem-2.0.6          | 34 KB     | ##################################### | 100% \n",
      "jinja2-3.1.2         | 215 KB    | ##################################### | 100% \n",
      "pathy-0.6.1          | 74 KB     | ##################################### | 100% \n",
      "spacy-3.3.1          | 4.2 MB    | ##################################### | 100% \n",
      "thinc-8.0.15         | 642 KB    | ##################################### | 100% \n",
      "murmurhash-1.0.7     | 22 KB     | ##################################### | 100% \n",
      "spacy-legacy-3.0.9   | 32 KB     | ##################################### | 100% \n",
      "srsly-2.4.3          | 468 KB    | ##################################### | 100% \n",
      "spacy-loggers-1.0.1  | 10 KB     | ##################################### | 100% \n",
      "Preparing transaction: done\n",
      "Verifying transaction: done\n",
      "Executing transaction: done\n",
      "Retrieving notices: ...working... done\n",
      "Requirement already satisfied: pyLDAvis in /Users/arinaruck/opt/anaconda3/envs/ada/lib/python3.9/site-packages (3.3.1)\n",
      "Requirement already satisfied: numexpr in /Users/arinaruck/opt/anaconda3/envs/ada/lib/python3.9/site-packages (from pyLDAvis) (2.8.3)\n",
      "Requirement already satisfied: scipy in /Users/arinaruck/opt/anaconda3/envs/ada/lib/python3.9/site-packages (from pyLDAvis) (1.7.3)\n",
      "Requirement already satisfied: sklearn in /Users/arinaruck/opt/anaconda3/envs/ada/lib/python3.9/site-packages (from pyLDAvis) (0.0)\n",
      "Requirement already satisfied: joblib in /Users/arinaruck/opt/anaconda3/envs/ada/lib/python3.9/site-packages (from pyLDAvis) (1.2.0)\n",
      "Requirement already satisfied: jinja2 in /Users/arinaruck/opt/anaconda3/envs/ada/lib/python3.9/site-packages (from pyLDAvis) (3.1.2)\n",
      "Requirement already satisfied: funcy in /Users/arinaruck/opt/anaconda3/envs/ada/lib/python3.9/site-packages (from pyLDAvis) (1.17)\n",
      "Requirement already satisfied: gensim in /Users/arinaruck/opt/anaconda3/envs/ada/lib/python3.9/site-packages (from pyLDAvis) (4.2.0)\n",
      "Requirement already satisfied: setuptools in /Users/arinaruck/opt/anaconda3/envs/ada/lib/python3.9/site-packages (from pyLDAvis) (59.5.0)\n",
      "Requirement already satisfied: future in /Users/arinaruck/opt/anaconda3/envs/ada/lib/python3.9/site-packages (from pyLDAvis) (0.18.2)\n",
      "Requirement already satisfied: scikit-learn in /Users/arinaruck/opt/anaconda3/envs/ada/lib/python3.9/site-packages (from pyLDAvis) (1.1.3)\n",
      "Requirement already satisfied: pandas>=1.2.0 in /Users/arinaruck/opt/anaconda3/envs/ada/lib/python3.9/site-packages (from pyLDAvis) (1.4.4)\n",
      "Requirement already satisfied: numpy>=1.20.0 in /Users/arinaruck/opt/anaconda3/envs/ada/lib/python3.9/site-packages (from pyLDAvis) (1.22.4)\n",
      "Requirement already satisfied: python-dateutil>=2.8.1 in /Users/arinaruck/opt/anaconda3/envs/ada/lib/python3.9/site-packages (from pandas>=1.2.0->pyLDAvis) (2.8.2)\n",
      "Requirement already satisfied: pytz>=2020.1 in /Users/arinaruck/opt/anaconda3/envs/ada/lib/python3.9/site-packages (from pandas>=1.2.0->pyLDAvis) (2022.1)\n",
      "Requirement already satisfied: smart-open>=1.8.1 in /Users/arinaruck/opt/anaconda3/envs/ada/lib/python3.9/site-packages (from gensim->pyLDAvis) (6.2.0)\n",
      "Requirement already satisfied: MarkupSafe>=2.0 in /Users/arinaruck/opt/anaconda3/envs/ada/lib/python3.9/site-packages (from jinja2->pyLDAvis) (2.1.1)\n",
      "Requirement already satisfied: packaging in /Users/arinaruck/opt/anaconda3/envs/ada/lib/python3.9/site-packages (from numexpr->pyLDAvis) (21.3)\n",
      "Requirement already satisfied: threadpoolctl>=2.0.0 in /Users/arinaruck/opt/anaconda3/envs/ada/lib/python3.9/site-packages (from scikit-learn->pyLDAvis) (3.1.0)\n",
      "Requirement already satisfied: six>=1.5 in /Users/arinaruck/opt/anaconda3/envs/ada/lib/python3.9/site-packages (from python-dateutil>=2.8.1->pandas>=1.2.0->pyLDAvis) (1.16.0)\n",
      "Requirement already satisfied: pyparsing!=3.0.5,>=2.0.2 in /Users/arinaruck/opt/anaconda3/envs/ada/lib/python3.9/site-packages (from packaging->numexpr->pyLDAvis) (3.0.9)\n",
      "Requirement already satisfied: vaderSentiment in /Users/arinaruck/opt/anaconda3/envs/ada/lib/python3.9/site-packages (3.3.2)\n",
      "Requirement already satisfied: requests in /Users/arinaruck/opt/anaconda3/envs/ada/lib/python3.9/site-packages (from vaderSentiment) (2.28.1)\n",
      "Requirement already satisfied: idna<4,>=2.5 in /Users/arinaruck/opt/anaconda3/envs/ada/lib/python3.9/site-packages (from requests->vaderSentiment) (3.4)\n",
      "Requirement already satisfied: urllib3<1.27,>=1.21.1 in /Users/arinaruck/opt/anaconda3/envs/ada/lib/python3.9/site-packages (from requests->vaderSentiment) (1.26.12)\n",
      "Requirement already satisfied: charset-normalizer<3,>=2 in /Users/arinaruck/opt/anaconda3/envs/ada/lib/python3.9/site-packages (from requests->vaderSentiment) (2.1.1)\n",
      "Requirement already satisfied: certifi>=2017.4.17 in /Users/arinaruck/opt/anaconda3/envs/ada/lib/python3.9/site-packages (from requests->vaderSentiment) (2022.9.24)\n",
      "Requirement already satisfied: empath in /Users/arinaruck/opt/anaconda3/envs/ada/lib/python3.9/site-packages (0.89)\n",
      "Requirement already satisfied: requests in /Users/arinaruck/opt/anaconda3/envs/ada/lib/python3.9/site-packages (from empath) (2.28.1)\n",
      "Requirement already satisfied: certifi>=2017.4.17 in /Users/arinaruck/opt/anaconda3/envs/ada/lib/python3.9/site-packages (from requests->empath) (2022.9.24)\n",
      "Requirement already satisfied: urllib3<1.27,>=1.21.1 in /Users/arinaruck/opt/anaconda3/envs/ada/lib/python3.9/site-packages (from requests->empath) (1.26.12)\n",
      "Requirement already satisfied: charset-normalizer<3,>=2 in /Users/arinaruck/opt/anaconda3/envs/ada/lib/python3.9/site-packages (from requests->empath) (2.1.1)\n",
      "Requirement already satisfied: idna<4,>=2.5 in /Users/arinaruck/opt/anaconda3/envs/ada/lib/python3.9/site-packages (from requests->empath) (3.4)\n",
      "\u001b[38;5;3m⚠ As of spaCy v3.0, shortcuts like 'en' are deprecated. Please use the\n",
      "full pipeline package name 'en_core_web_sm' instead.\u001b[0m\n",
      "Collecting en-core-web-sm==3.3.0\n",
      "  Downloading https://github.com/explosion/spacy-models/releases/download/en_core_web_sm-3.3.0/en_core_web_sm-3.3.0-py3-none-any.whl (12.8 MB)\n",
      "\u001b[2K     \u001b[90m━━━━━━━━━━━━━━━━━━━━━━━━━━━━━━━━━━━━━━━━\u001b[0m \u001b[32m12.8/12.8 MB\u001b[0m \u001b[31m15.7 MB/s\u001b[0m eta \u001b[36m0:00:00\u001b[0m00:01\u001b[0m00:01\u001b[0m\n",
      "\u001b[?25hRequirement already satisfied: spacy<3.4.0,>=3.3.0.dev0 in /Users/arinaruck/opt/anaconda3/envs/ada/lib/python3.9/site-packages (from en-core-web-sm==3.3.0) (3.3.1)\n",
      "Requirement already satisfied: thinc<8.1.0,>=8.0.14 in /Users/arinaruck/opt/anaconda3/envs/ada/lib/python3.9/site-packages (from spacy<3.4.0,>=3.3.0.dev0->en-core-web-sm==3.3.0) (8.0.15)\n",
      "Requirement already satisfied: tqdm<5.0.0,>=4.38.0 in /Users/arinaruck/opt/anaconda3/envs/ada/lib/python3.9/site-packages (from spacy<3.4.0,>=3.3.0.dev0->en-core-web-sm==3.3.0) (4.64.1)\n",
      "Requirement already satisfied: srsly<3.0.0,>=2.4.3 in /Users/arinaruck/opt/anaconda3/envs/ada/lib/python3.9/site-packages (from spacy<3.4.0,>=3.3.0.dev0->en-core-web-sm==3.3.0) (2.4.3)\n",
      "Requirement already satisfied: langcodes<4.0.0,>=3.2.0 in /Users/arinaruck/opt/anaconda3/envs/ada/lib/python3.9/site-packages (from spacy<3.4.0,>=3.3.0.dev0->en-core-web-sm==3.3.0) (3.3.0)\n",
      "Requirement already satisfied: spacy-legacy<3.1.0,>=3.0.9 in /Users/arinaruck/opt/anaconda3/envs/ada/lib/python3.9/site-packages (from spacy<3.4.0,>=3.3.0.dev0->en-core-web-sm==3.3.0) (3.0.9)\n",
      "Requirement already satisfied: cymem<2.1.0,>=2.0.2 in /Users/arinaruck/opt/anaconda3/envs/ada/lib/python3.9/site-packages (from spacy<3.4.0,>=3.3.0.dev0->en-core-web-sm==3.3.0) (2.0.6)\n",
      "Collecting pydantic!=1.8,!=1.8.1,<1.9.0,>=1.7.4\n",
      "  Downloading pydantic-1.8.2-cp39-cp39-macosx_10_9_x86_64.whl (2.7 MB)\n",
      "\u001b[2K     \u001b[90m━━━━━━━━━━━━━━━━━━━━━━━━━━━━━━━━━━━━━━━━\u001b[0m \u001b[32m2.7/2.7 MB\u001b[0m \u001b[31m14.1 MB/s\u001b[0m eta \u001b[36m0:00:00\u001b[0ma \u001b[36m0:00:01\u001b[0m\n",
      "\u001b[?25hRequirement already satisfied: catalogue<2.1.0,>=2.0.6 in /Users/arinaruck/opt/anaconda3/envs/ada/lib/python3.9/site-packages (from spacy<3.4.0,>=3.3.0.dev0->en-core-web-sm==3.3.0) (2.0.7)\n",
      "Requirement already satisfied: preshed<3.1.0,>=3.0.2 in /Users/arinaruck/opt/anaconda3/envs/ada/lib/python3.9/site-packages (from spacy<3.4.0,>=3.3.0.dev0->en-core-web-sm==3.3.0) (3.0.6)\n",
      "Requirement already satisfied: jinja2 in /Users/arinaruck/opt/anaconda3/envs/ada/lib/python3.9/site-packages (from spacy<3.4.0,>=3.3.0.dev0->en-core-web-sm==3.3.0) (3.1.2)\n",
      "Requirement already satisfied: requests<3.0.0,>=2.13.0 in /Users/arinaruck/opt/anaconda3/envs/ada/lib/python3.9/site-packages (from spacy<3.4.0,>=3.3.0.dev0->en-core-web-sm==3.3.0) (2.28.1)\n",
      "Requirement already satisfied: blis<0.8.0,>=0.4.0 in /Users/arinaruck/opt/anaconda3/envs/ada/lib/python3.9/site-packages (from spacy<3.4.0,>=3.3.0.dev0->en-core-web-sm==3.3.0) (0.7.7)\n",
      "Requirement already satisfied: numpy>=1.15.0 in /Users/arinaruck/opt/anaconda3/envs/ada/lib/python3.9/site-packages (from spacy<3.4.0,>=3.3.0.dev0->en-core-web-sm==3.3.0) (1.22.4)\n",
      "Requirement already satisfied: murmurhash<1.1.0,>=0.28.0 in /Users/arinaruck/opt/anaconda3/envs/ada/lib/python3.9/site-packages (from spacy<3.4.0,>=3.3.0.dev0->en-core-web-sm==3.3.0) (1.0.7)\n",
      "Requirement already satisfied: packaging>=20.0 in /Users/arinaruck/opt/anaconda3/envs/ada/lib/python3.9/site-packages (from spacy<3.4.0,>=3.3.0.dev0->en-core-web-sm==3.3.0) (21.3)\n",
      "Requirement already satisfied: spacy-loggers<2.0.0,>=1.0.0 in /Users/arinaruck/opt/anaconda3/envs/ada/lib/python3.9/site-packages (from spacy<3.4.0,>=3.3.0.dev0->en-core-web-sm==3.3.0) (1.0.1)\n",
      "Requirement already satisfied: setuptools in /Users/arinaruck/opt/anaconda3/envs/ada/lib/python3.9/site-packages (from spacy<3.4.0,>=3.3.0.dev0->en-core-web-sm==3.3.0) (59.5.0)\n",
      "Collecting typer<0.5.0,>=0.3.0\n",
      "  Downloading typer-0.4.2-py3-none-any.whl (27 kB)\n",
      "Requirement already satisfied: pathy>=0.3.5 in /Users/arinaruck/opt/anaconda3/envs/ada/lib/python3.9/site-packages (from spacy<3.4.0,>=3.3.0.dev0->en-core-web-sm==3.3.0) (0.6.1)\n",
      "Requirement already satisfied: wasabi<1.1.0,>=0.9.1 in /Users/arinaruck/opt/anaconda3/envs/ada/lib/python3.9/site-packages (from spacy<3.4.0,>=3.3.0.dev0->en-core-web-sm==3.3.0) (0.9.1)\n",
      "Requirement already satisfied: pyparsing!=3.0.5,>=2.0.2 in /Users/arinaruck/opt/anaconda3/envs/ada/lib/python3.9/site-packages (from packaging>=20.0->spacy<3.4.0,>=3.3.0.dev0->en-core-web-sm==3.3.0) (3.0.9)\n",
      "Collecting smart-open<6.0.0,>=5.0.0\n",
      "  Downloading smart_open-5.2.1-py3-none-any.whl (58 kB)\n",
      "\u001b[2K     \u001b[90m━━━━━━━━━━━━━━━━━━━━━━━━━━━━━━━━━━━━━━━━\u001b[0m \u001b[32m58.6/58.6 kB\u001b[0m \u001b[31m2.2 MB/s\u001b[0m eta \u001b[36m0:00:00\u001b[0m\n",
      "\u001b[?25hRequirement already satisfied: typing-extensions>=3.7.4.3 in /Users/arinaruck/opt/anaconda3/envs/ada/lib/python3.9/site-packages (from pydantic!=1.8,!=1.8.1,<1.9.0,>=1.7.4->spacy<3.4.0,>=3.3.0.dev0->en-core-web-sm==3.3.0) (4.3.0)\n",
      "Requirement already satisfied: idna<4,>=2.5 in /Users/arinaruck/opt/anaconda3/envs/ada/lib/python3.9/site-packages (from requests<3.0.0,>=2.13.0->spacy<3.4.0,>=3.3.0.dev0->en-core-web-sm==3.3.0) (3.4)\n",
      "Requirement already satisfied: certifi>=2017.4.17 in /Users/arinaruck/opt/anaconda3/envs/ada/lib/python3.9/site-packages (from requests<3.0.0,>=2.13.0->spacy<3.4.0,>=3.3.0.dev0->en-core-web-sm==3.3.0) (2022.9.24)\n",
      "Requirement already satisfied: charset-normalizer<3,>=2 in /Users/arinaruck/opt/anaconda3/envs/ada/lib/python3.9/site-packages (from requests<3.0.0,>=2.13.0->spacy<3.4.0,>=3.3.0.dev0->en-core-web-sm==3.3.0) (2.1.1)\n",
      "Requirement already satisfied: urllib3<1.27,>=1.21.1 in /Users/arinaruck/opt/anaconda3/envs/ada/lib/python3.9/site-packages (from requests<3.0.0,>=2.13.0->spacy<3.4.0,>=3.3.0.dev0->en-core-web-sm==3.3.0) (1.26.12)\n",
      "Requirement already satisfied: click<9.0.0,>=7.1.1 in /Users/arinaruck/opt/anaconda3/envs/ada/lib/python3.9/site-packages (from typer<0.5.0,>=0.3.0->spacy<3.4.0,>=3.3.0.dev0->en-core-web-sm==3.3.0) (8.1.3)\n",
      "Requirement already satisfied: MarkupSafe>=2.0 in /Users/arinaruck/opt/anaconda3/envs/ada/lib/python3.9/site-packages (from jinja2->spacy<3.4.0,>=3.3.0.dev0->en-core-web-sm==3.3.0) (2.1.1)\n",
      "Installing collected packages: typer, smart-open, pydantic, en-core-web-sm\n",
      "  Attempting uninstall: typer\n",
      "    Found existing installation: typer 0.7.0\n",
      "    Uninstalling typer-0.7.0:\n",
      "      Successfully uninstalled typer-0.7.0\n",
      "  Attempting uninstall: smart-open\n",
      "    Found existing installation: smart-open 6.2.0\n",
      "    Uninstalling smart-open-6.2.0:\n",
      "      Successfully uninstalled smart-open-6.2.0\n",
      "  Attempting uninstall: pydantic\n",
      "    Found existing installation: pydantic 1.10.2\n",
      "    Uninstalling pydantic-1.10.2:\n",
      "      Successfully uninstalled pydantic-1.10.2\n",
      "\u001b[31mERROR: pip's dependency resolver does not currently take into account all the packages that are installed. This behaviour is the source of the following dependency conflicts.\n",
      "inflect 6.0.2 requires pydantic>=1.9.1, but you have pydantic 1.8.2 which is incompatible.\u001b[0m\u001b[31m\n",
      "\u001b[0mSuccessfully installed en-core-web-sm-3.3.0 pydantic-1.8.2 smart-open-5.2.1 typer-0.4.2\n",
      "\u001b[38;5;2m✔ Download and installation successful\u001b[0m\n",
      "You can now load the package via spacy.load('en_core_web_sm')\n",
      "/Users/arinaruck/opt/anaconda3/envs/ada/lib/python3.9/runpy.py:127: RuntimeWarning: 'nltk.downloader' found in sys.modules after import of package 'nltk', but prior to execution of 'nltk.downloader'; this may result in unpredictable behaviour\n",
      "  warn(RuntimeWarning(msg))\n",
      "[nltk_data] Downloading package punkt to /Users/arinaruck/nltk_data...\n",
      "[nltk_data]   Package punkt is already up-to-date!\n",
      "/Users/arinaruck/opt/anaconda3/envs/ada/lib/python3.9/runpy.py:127: RuntimeWarning: 'nltk.downloader' found in sys.modules after import of package 'nltk', but prior to execution of 'nltk.downloader'; this may result in unpredictable behaviour\n",
      "  warn(RuntimeWarning(msg))\n",
      "[nltk_data] Downloading collection 'all-corpora'\n",
      "[nltk_data]    | \n",
      "[nltk_data]    | Downloading package abc to\n",
      "[nltk_data]    |     /Users/arinaruck/nltk_data...\n",
      "[nltk_data]    |   Package abc is already up-to-date!\n",
      "[nltk_data]    | Downloading package alpino to\n",
      "[nltk_data]    |     /Users/arinaruck/nltk_data...\n",
      "[nltk_data]    |   Package alpino is already up-to-date!\n",
      "[nltk_data]    | Downloading package biocreative_ppi to\n",
      "[nltk_data]    |     /Users/arinaruck/nltk_data...\n",
      "[nltk_data]    |   Package biocreative_ppi is already up-to-date!\n",
      "[nltk_data]    | Downloading package brown to\n",
      "[nltk_data]    |     /Users/arinaruck/nltk_data...\n",
      "[nltk_data]    |   Package brown is already up-to-date!\n",
      "[nltk_data]    | Downloading package brown_tei to\n",
      "[nltk_data]    |     /Users/arinaruck/nltk_data...\n",
      "[nltk_data]    |   Package brown_tei is already up-to-date!\n",
      "[nltk_data]    | Downloading package cess_cat to\n",
      "[nltk_data]    |     /Users/arinaruck/nltk_data...\n",
      "[nltk_data]    |   Package cess_cat is already up-to-date!\n",
      "[nltk_data]    | Downloading package cess_esp to\n",
      "[nltk_data]    |     /Users/arinaruck/nltk_data...\n",
      "[nltk_data]    |   Package cess_esp is already up-to-date!\n",
      "[nltk_data]    | Downloading package chat80 to\n",
      "[nltk_data]    |     /Users/arinaruck/nltk_data...\n",
      "[nltk_data]    |   Package chat80 is already up-to-date!\n",
      "[nltk_data]    | Downloading package city_database to\n",
      "[nltk_data]    |     /Users/arinaruck/nltk_data...\n",
      "[nltk_data]    |   Package city_database is already up-to-date!\n",
      "[nltk_data]    | Downloading package cmudict to\n",
      "[nltk_data]    |     /Users/arinaruck/nltk_data...\n",
      "[nltk_data]    |   Package cmudict is already up-to-date!\n",
      "[nltk_data]    | Downloading package comparative_sentences to\n",
      "[nltk_data]    |     /Users/arinaruck/nltk_data...\n",
      "[nltk_data]    |   Package comparative_sentences is already up-to-\n",
      "[nltk_data]    |       date!\n",
      "[nltk_data]    | Downloading package comtrans to\n",
      "[nltk_data]    |     /Users/arinaruck/nltk_data...\n",
      "[nltk_data]    |   Package comtrans is already up-to-date!\n",
      "[nltk_data]    | Downloading package conll2000 to\n",
      "[nltk_data]    |     /Users/arinaruck/nltk_data...\n",
      "[nltk_data]    |   Package conll2000 is already up-to-date!\n",
      "[nltk_data]    | Downloading package conll2002 to\n",
      "[nltk_data]    |     /Users/arinaruck/nltk_data...\n",
      "[nltk_data]    |   Package conll2002 is already up-to-date!\n",
      "[nltk_data]    | Downloading package conll2007 to\n",
      "[nltk_data]    |     /Users/arinaruck/nltk_data...\n",
      "[nltk_data]    |   Package conll2007 is already up-to-date!\n",
      "[nltk_data]    | Downloading package crubadan to\n",
      "[nltk_data]    |     /Users/arinaruck/nltk_data...\n",
      "[nltk_data]    |   Package crubadan is already up-to-date!\n",
      "[nltk_data]    | Downloading package dependency_treebank to\n",
      "[nltk_data]    |     /Users/arinaruck/nltk_data...\n",
      "[nltk_data]    |   Package dependency_treebank is already up-to-date!\n",
      "[nltk_data]    | Downloading package dolch to\n",
      "[nltk_data]    |     /Users/arinaruck/nltk_data...\n",
      "[nltk_data]    |   Package dolch is already up-to-date!\n",
      "[nltk_data]    | Downloading package europarl_raw to\n",
      "[nltk_data]    |     /Users/arinaruck/nltk_data...\n",
      "[nltk_data]    |   Package europarl_raw is already up-to-date!\n",
      "[nltk_data]    | Downloading package extended_omw to\n",
      "[nltk_data]    |     /Users/arinaruck/nltk_data...\n",
      "[nltk_data]    |   Package extended_omw is already up-to-date!\n",
      "[nltk_data]    | Downloading package floresta to\n",
      "[nltk_data]    |     /Users/arinaruck/nltk_data...\n",
      "[nltk_data]    |   Package floresta is already up-to-date!\n",
      "[nltk_data]    | Downloading package framenet_v15 to\n",
      "[nltk_data]    |     /Users/arinaruck/nltk_data...\n",
      "[nltk_data]    |   Package framenet_v15 is already up-to-date!\n",
      "[nltk_data]    | Downloading package framenet_v17 to\n",
      "[nltk_data]    |     /Users/arinaruck/nltk_data...\n",
      "[nltk_data]    |   Package framenet_v17 is already up-to-date!\n",
      "[nltk_data]    | Downloading package gazetteers to\n",
      "[nltk_data]    |     /Users/arinaruck/nltk_data...\n",
      "[nltk_data]    |   Package gazetteers is already up-to-date!\n",
      "[nltk_data]    | Downloading package genesis to\n",
      "[nltk_data]    |     /Users/arinaruck/nltk_data...\n",
      "[nltk_data]    |   Package genesis is already up-to-date!\n",
      "[nltk_data]    | Downloading package gutenberg to\n",
      "[nltk_data]    |     /Users/arinaruck/nltk_data...\n",
      "[nltk_data]    |   Package gutenberg is already up-to-date!\n",
      "[nltk_data]    | Downloading package ieer to\n",
      "[nltk_data]    |     /Users/arinaruck/nltk_data...\n",
      "[nltk_data]    |   Package ieer is already up-to-date!\n",
      "[nltk_data]    | Downloading package inaugural to\n",
      "[nltk_data]    |     /Users/arinaruck/nltk_data...\n",
      "[nltk_data]    |   Package inaugural is already up-to-date!\n",
      "[nltk_data]    | Downloading package indian to\n",
      "[nltk_data]    |     /Users/arinaruck/nltk_data...\n",
      "[nltk_data]    |   Package indian is already up-to-date!\n",
      "[nltk_data]    | Downloading package jeita to\n",
      "[nltk_data]    |     /Users/arinaruck/nltk_data...\n",
      "[nltk_data]    |   Package jeita is already up-to-date!\n",
      "[nltk_data]    | Downloading package kimmo to\n",
      "[nltk_data]    |     /Users/arinaruck/nltk_data...\n",
      "[nltk_data]    |   Package kimmo is already up-to-date!\n",
      "[nltk_data]    | Downloading package knbc to\n",
      "[nltk_data]    |     /Users/arinaruck/nltk_data...\n",
      "[nltk_data]    |   Package knbc is already up-to-date!\n",
      "[nltk_data]    | Downloading package lin_thesaurus to\n",
      "[nltk_data]    |     /Users/arinaruck/nltk_data...\n",
      "[nltk_data]    |   Package lin_thesaurus is already up-to-date!\n",
      "[nltk_data]    | Downloading package mac_morpho to\n",
      "[nltk_data]    |     /Users/arinaruck/nltk_data...\n",
      "[nltk_data]    |   Package mac_morpho is already up-to-date!\n",
      "[nltk_data]    | Downloading package machado to\n",
      "[nltk_data]    |     /Users/arinaruck/nltk_data...\n",
      "[nltk_data]    |   Package machado is already up-to-date!\n",
      "[nltk_data]    | Downloading package masc_tagged to\n",
      "[nltk_data]    |     /Users/arinaruck/nltk_data...\n",
      "[nltk_data]    |   Package masc_tagged is already up-to-date!\n",
      "[nltk_data]    | Downloading package movie_reviews to\n",
      "[nltk_data]    |     /Users/arinaruck/nltk_data...\n",
      "[nltk_data]    |   Package movie_reviews is already up-to-date!\n",
      "[nltk_data]    | Downloading package mte_teip5 to\n",
      "[nltk_data]    |     /Users/arinaruck/nltk_data...\n",
      "[nltk_data]    |   Package mte_teip5 is already up-to-date!\n",
      "[nltk_data]    | Downloading package names to\n",
      "[nltk_data]    |     /Users/arinaruck/nltk_data...\n",
      "[nltk_data]    |   Package names is already up-to-date!\n",
      "[nltk_data]    | Downloading package nombank.1.0 to\n",
      "[nltk_data]    |     /Users/arinaruck/nltk_data...\n",
      "[nltk_data]    |   Package nombank.1.0 is already up-to-date!\n",
      "[nltk_data]    | Downloading package nonbreaking_prefixes to\n",
      "[nltk_data]    |     /Users/arinaruck/nltk_data...\n",
      "[nltk_data]    |   Package nonbreaking_prefixes is already up-to-date!\n",
      "[nltk_data]    | Downloading package nps_chat to\n",
      "[nltk_data]    |     /Users/arinaruck/nltk_data...\n",
      "[nltk_data]    |   Package nps_chat is already up-to-date!\n",
      "[nltk_data]    | Downloading package omw to\n",
      "[nltk_data]    |     /Users/arinaruck/nltk_data...\n",
      "[nltk_data]    |   Package omw is already up-to-date!\n",
      "[nltk_data]    | Downloading package omw-1.4 to\n",
      "[nltk_data]    |     /Users/arinaruck/nltk_data...\n",
      "[nltk_data]    |   Package omw-1.4 is already up-to-date!\n",
      "[nltk_data]    | Downloading package opinion_lexicon to\n",
      "[nltk_data]    |     /Users/arinaruck/nltk_data...\n",
      "[nltk_data]    |   Package opinion_lexicon is already up-to-date!\n",
      "[nltk_data]    | Downloading package panlex_swadesh to\n",
      "[nltk_data]    |     /Users/arinaruck/nltk_data...\n",
      "[nltk_data]    |   Package panlex_swadesh is already up-to-date!\n",
      "[nltk_data]    | Downloading package paradigms to\n",
      "[nltk_data]    |     /Users/arinaruck/nltk_data...\n",
      "[nltk_data]    |   Package paradigms is already up-to-date!\n",
      "[nltk_data]    | Downloading package pe08 to\n",
      "[nltk_data]    |     /Users/arinaruck/nltk_data...\n",
      "[nltk_data]    |   Package pe08 is already up-to-date!\n",
      "[nltk_data]    | Downloading package pil to\n",
      "[nltk_data]    |     /Users/arinaruck/nltk_data...\n",
      "[nltk_data]    |   Package pil is already up-to-date!\n",
      "[nltk_data]    | Downloading package pl196x to\n",
      "[nltk_data]    |     /Users/arinaruck/nltk_data...\n",
      "[nltk_data]    |   Package pl196x is already up-to-date!\n",
      "[nltk_data]    | Downloading package ppattach to\n",
      "[nltk_data]    |     /Users/arinaruck/nltk_data...\n",
      "[nltk_data]    |   Package ppattach is already up-to-date!\n",
      "[nltk_data]    | Downloading package problem_reports to\n",
      "[nltk_data]    |     /Users/arinaruck/nltk_data...\n",
      "[nltk_data]    |   Package problem_reports is already up-to-date!\n",
      "[nltk_data]    | Downloading package product_reviews_1 to\n",
      "[nltk_data]    |     /Users/arinaruck/nltk_data...\n",
      "[nltk_data]    |   Package product_reviews_1 is already up-to-date!\n",
      "[nltk_data]    | Downloading package product_reviews_2 to\n",
      "[nltk_data]    |     /Users/arinaruck/nltk_data...\n",
      "[nltk_data]    |   Package product_reviews_2 is already up-to-date!\n",
      "[nltk_data]    | Downloading package propbank to\n",
      "[nltk_data]    |     /Users/arinaruck/nltk_data...\n",
      "[nltk_data]    |   Package propbank is already up-to-date!\n",
      "[nltk_data]    | Downloading package pros_cons to\n",
      "[nltk_data]    |     /Users/arinaruck/nltk_data...\n",
      "[nltk_data]    |   Package pros_cons is already up-to-date!\n",
      "[nltk_data]    | Downloading package ptb to\n",
      "[nltk_data]    |     /Users/arinaruck/nltk_data...\n",
      "[nltk_data]    |   Package ptb is already up-to-date!\n",
      "[nltk_data]    | Downloading package qc to\n",
      "[nltk_data]    |     /Users/arinaruck/nltk_data...\n",
      "[nltk_data]    |   Package qc is already up-to-date!\n",
      "[nltk_data]    | Downloading package reuters to\n",
      "[nltk_data]    |     /Users/arinaruck/nltk_data...\n",
      "[nltk_data]    |   Package reuters is already up-to-date!\n",
      "[nltk_data]    | Downloading package rte to\n",
      "[nltk_data]    |     /Users/arinaruck/nltk_data...\n",
      "[nltk_data]    |   Package rte is already up-to-date!\n",
      "[nltk_data]    | Downloading package semcor to\n",
      "[nltk_data]    |     /Users/arinaruck/nltk_data...\n",
      "[nltk_data]    |   Package semcor is already up-to-date!\n",
      "[nltk_data]    | Downloading package senseval to\n",
      "[nltk_data]    |     /Users/arinaruck/nltk_data...\n",
      "[nltk_data]    |   Package senseval is already up-to-date!\n",
      "[nltk_data]    | Downloading package sentence_polarity to\n",
      "[nltk_data]    |     /Users/arinaruck/nltk_data...\n",
      "[nltk_data]    |   Package sentence_polarity is already up-to-date!\n",
      "[nltk_data]    | Downloading package sentiwordnet to\n",
      "[nltk_data]    |     /Users/arinaruck/nltk_data...\n",
      "[nltk_data]    |   Package sentiwordnet is already up-to-date!\n",
      "[nltk_data]    | Downloading package shakespeare to\n",
      "[nltk_data]    |     /Users/arinaruck/nltk_data...\n",
      "[nltk_data]    |   Package shakespeare is already up-to-date!\n",
      "[nltk_data]    | Downloading package sinica_treebank to\n",
      "[nltk_data]    |     /Users/arinaruck/nltk_data...\n",
      "[nltk_data]    |   Package sinica_treebank is already up-to-date!\n",
      "[nltk_data]    | Downloading package smultron to\n",
      "[nltk_data]    |     /Users/arinaruck/nltk_data...\n",
      "[nltk_data]    |   Package smultron is already up-to-date!\n",
      "[nltk_data]    | Downloading package state_union to\n",
      "[nltk_data]    |     /Users/arinaruck/nltk_data...\n",
      "[nltk_data]    |   Package state_union is already up-to-date!\n",
      "[nltk_data]    | Downloading package stopwords to\n",
      "[nltk_data]    |     /Users/arinaruck/nltk_data...\n",
      "[nltk_data]    |   Package stopwords is already up-to-date!\n",
      "[nltk_data]    | Downloading package subjectivity to\n",
      "[nltk_data]    |     /Users/arinaruck/nltk_data...\n",
      "[nltk_data]    |   Package subjectivity is already up-to-date!\n",
      "[nltk_data]    | Downloading package swadesh to\n",
      "[nltk_data]    |     /Users/arinaruck/nltk_data...\n",
      "[nltk_data]    |   Package swadesh is already up-to-date!\n",
      "[nltk_data]    | Downloading package switchboard to\n",
      "[nltk_data]    |     /Users/arinaruck/nltk_data...\n",
      "[nltk_data]    |   Package switchboard is already up-to-date!\n",
      "[nltk_data]    | Downloading package timit to\n",
      "[nltk_data]    |     /Users/arinaruck/nltk_data...\n",
      "[nltk_data]    |   Package timit is already up-to-date!\n",
      "[nltk_data]    | Downloading package toolbox to\n",
      "[nltk_data]    |     /Users/arinaruck/nltk_data...\n",
      "[nltk_data]    |   Package toolbox is already up-to-date!\n",
      "[nltk_data]    | Downloading package treebank to\n",
      "[nltk_data]    |     /Users/arinaruck/nltk_data...\n",
      "[nltk_data]    |   Package treebank is already up-to-date!\n",
      "[nltk_data]    | Downloading package twitter_samples to\n",
      "[nltk_data]    |     /Users/arinaruck/nltk_data...\n",
      "[nltk_data]    |   Package twitter_samples is already up-to-date!\n",
      "[nltk_data]    | Downloading package udhr to\n",
      "[nltk_data]    |     /Users/arinaruck/nltk_data...\n",
      "[nltk_data]    |   Package udhr is already up-to-date!\n",
      "[nltk_data]    | Downloading package udhr2 to\n",
      "[nltk_data]    |     /Users/arinaruck/nltk_data...\n",
      "[nltk_data]    |   Package udhr2 is already up-to-date!\n",
      "[nltk_data]    | Downloading package unicode_samples to\n",
      "[nltk_data]    |     /Users/arinaruck/nltk_data...\n",
      "[nltk_data]    |   Package unicode_samples is already up-to-date!\n",
      "[nltk_data]    | Downloading package universal_treebanks_v20 to\n",
      "[nltk_data]    |     /Users/arinaruck/nltk_data...\n",
      "[nltk_data]    |   Package universal_treebanks_v20 is already up-to-\n",
      "[nltk_data]    |       date!\n",
      "[nltk_data]    | Downloading package verbnet to\n",
      "[nltk_data]    |     /Users/arinaruck/nltk_data...\n",
      "[nltk_data]    |   Package verbnet is already up-to-date!\n",
      "[nltk_data]    | Downloading package verbnet3 to\n",
      "[nltk_data]    |     /Users/arinaruck/nltk_data...\n",
      "[nltk_data]    |   Package verbnet3 is already up-to-date!\n",
      "[nltk_data]    | Downloading package webtext to\n",
      "[nltk_data]    |     /Users/arinaruck/nltk_data...\n",
      "[nltk_data]    |   Package webtext is already up-to-date!\n",
      "[nltk_data]    | Downloading package wordnet to\n",
      "[nltk_data]    |     /Users/arinaruck/nltk_data...\n",
      "[nltk_data]    |   Package wordnet is already up-to-date!\n",
      "[nltk_data]    | Downloading package wordnet2021 to\n",
      "[nltk_data]    |     /Users/arinaruck/nltk_data...\n",
      "[nltk_data]    |   Package wordnet2021 is already up-to-date!\n",
      "[nltk_data]    | Downloading package wordnet31 to\n",
      "[nltk_data]    |     /Users/arinaruck/nltk_data...\n",
      "[nltk_data]    |   Package wordnet31 is already up-to-date!\n",
      "[nltk_data]    | Downloading package wordnet_ic to\n",
      "[nltk_data]    |     /Users/arinaruck/nltk_data...\n",
      "[nltk_data]    |   Package wordnet_ic is already up-to-date!\n",
      "[nltk_data]    | Downloading package words to\n",
      "[nltk_data]    |     /Users/arinaruck/nltk_data...\n",
      "[nltk_data]    |   Package words is already up-to-date!\n",
      "[nltk_data]    | Downloading package ycoe to\n",
      "[nltk_data]    |     /Users/arinaruck/nltk_data...\n",
      "[nltk_data]    |   Package ycoe is already up-to-date!\n",
      "[nltk_data]    | \n",
      "[nltk_data]  Done downloading collection all-corpora\n"
     ]
    }
   ],
   "source": [
    "!echo y | conda install nltk gensim spacy\n",
    "!echo y | pip install pyLDAvis\n",
    "!echo y | pip install vaderSentiment\n",
    "!echo y | pip install empath\n",
    "!python -m spacy download en\n",
    "!python -m nltk.downloader punkt\n",
    "!python -m nltk.downloader all-corpora"
   ]
  },
  {
   "cell_type": "markdown",
   "metadata": {},
   "source": [
    "## Part 1"
   ]
  },
  {
   "cell_type": "code",
   "execution_count": 2,
   "metadata": {},
   "outputs": [
    {
     "name": "stderr",
     "output_type": "stream",
     "text": [
      "/Users/arinaruck/opt/anaconda3/envs/ada/lib/python3.9/site-packages/past/builtins/misc.py:45: DeprecationWarning: the imp module is deprecated in favour of importlib; see the module's documentation for alternative uses\n",
      "  from imp import reload\n"
     ]
    }
   ],
   "source": [
    "%load_ext autoreload\n",
    "%autoreload 2\n",
    "\n",
    "import warnings; warnings.simplefilter('ignore')\n",
    "import os, codecs, string, random\n",
    "import numpy as np\n",
    "from numpy.random import seed as random_seed\n",
    "from numpy.random import shuffle as random_shuffle\n",
    "import matplotlib.pyplot as plt\n",
    "%matplotlib inline  \n",
    "\n",
    "seed = 42\n",
    "random.seed(seed)\n",
    "np.random.seed(seed)\n",
    "\n",
    "#NLP libraries\n",
    "import spacy, nltk, gensim, sklearn\n",
    "#import pyLDAvis.gensim\n",
    "import pyLDAvis.gensim_models\n",
    "\n",
    "#Vader\n",
    "import vaderSentiment\n",
    "from vaderSentiment.vaderSentiment import SentimentIntensityAnalyzer\n",
    "\n",
    "#Scikit imports\n",
    "from sklearn.feature_extraction.text import CountVectorizer\n",
    "from sklearn.model_selection import train_test_split\n",
    "from sklearn.model_selection import cross_val_score\n",
    "from sklearn.linear_model import LogisticRegression\n",
    "from sklearn import preprocessing\n",
    "from sklearn.preprocessing import StandardScaler\n",
    "from sklearn.utils import shuffle\n",
    "\n",
    "#The data\n",
    "corpus_root = 'books/'"
   ]
  },
  {
   "cell_type": "markdown",
   "metadata": {},
   "source": [
    "#### In this tutorial we will be working with text in English. The same principles apply, but the methods cannot be applied directly to the text in unknown or other languages. We will be working mainly with the Spacy library."
   ]
  },
  {
   "cell_type": "markdown",
   "metadata": {},
   "source": [
    "Initialize the Spacy analyzer in English"
   ]
  },
  {
   "cell_type": "code",
   "execution_count": 3,
   "metadata": {},
   "outputs": [],
   "source": [
    "nlp = spacy.load('en_core_web_sm')"
   ]
  },
  {
   "cell_type": "markdown",
   "metadata": {},
   "source": [
    "Load the books"
   ]
  },
  {
   "cell_type": "code",
   "execution_count": 4,
   "metadata": {},
   "outputs": [
    {
     "name": "stdout",
     "output_type": "stream",
     "text": [
      "Moby_Dick.txt\n",
      "Frankenstein.txt\n",
      "DRACULA.txt\n",
      "PRIDE_AND_PREJUDICE.txt\n"
     ]
    }
   ],
   "source": [
    "books = list()\n",
    "\n",
    "for book_file in os.listdir(corpus_root):\n",
    "    if \".txt\" in book_file:\n",
    "        print(book_file)\n",
    "        with codecs.open(os.path.join(corpus_root,book_file),encoding=\"utf8\") as f:\n",
    "            books.append(f.read())"
   ]
  },
  {
   "cell_type": "markdown",
   "metadata": {},
   "source": [
    "Print the beginning of Pride and Prejudice"
   ]
  },
  {
   "cell_type": "code",
   "execution_count": 5,
   "metadata": {},
   "outputs": [
    {
     "name": "stdout",
     "output_type": "stream",
     "text": [
      "PRIDE AND PREJUDICE\n",
      "\n",
      "By Jane Austen\n",
      "\n",
      "\n",
      "\n",
      "Chapter 1\n",
      "\n",
      "\n",
      "It is a truth universally acknowledged, that a single man in possession\n",
      "of a good fortune, must be in want of a wife.\n",
      "\n",
      "However little known the feelings or views of such a man may be on his\n",
      "first entering a neighbourhood, this truth is so well fixed in the minds\n",
      "of the surrounding families, that he is considered the rightful property\n",
      "of some one or other of their daughters.\n",
      "\n",
      "“My dear Mr. Bennet,” said his lady to him one day, “have you heard that\n",
      "Netherfield Park is let at last?”\n",
      "\n",
      "Mr. Bennet replied that he had not.\n",
      "\n",
      "“But it is,” returned she;\n"
     ]
    }
   ],
   "source": [
    "print(books[3][0:600])"
   ]
  },
  {
   "cell_type": "markdown",
   "metadata": {},
   "source": [
    "#### Let's remove the new lines"
   ]
  },
  {
   "cell_type": "code",
   "execution_count": 6,
   "metadata": {},
   "outputs": [],
   "source": [
    "books = [\" \".join(b.split()) for b in books]"
   ]
  },
  {
   "cell_type": "code",
   "execution_count": 7,
   "metadata": {},
   "outputs": [
    {
     "name": "stdout",
     "output_type": "stream",
     "text": [
      "PRIDE AND PREJUDICE By Jane Austen Chapter 1 It is a truth universally acknowledged, that a single man in possession of a good fortune, must be in want of a wife. However little known the feelings or views of such a man may be on his first entering a neighbourhood, this truth is so well fixed in the minds of the surrounding families, that he is considered the rightful property of some one or other of their daughters. “My dear Mr. Bennet,” said his lady to him one day, “have you heard that Netherfield Park is let at last?” Mr. Bennet replied that he had not. “But it is,” returned she; “for Mrs.\n"
     ]
    }
   ],
   "source": [
    "print(books[3][0:600])"
   ]
  },
  {
   "cell_type": "markdown",
   "metadata": {},
   "source": [
    "### Load Frankenstein"
   ]
  },
  {
   "cell_type": "code",
   "execution_count": 9,
   "metadata": {},
   "outputs": [],
   "source": [
    "#index all books\n",
    "book = books[1]\n",
    "\n",
    "#put in raw text, get a Spacy object\n",
    "doc = nlp(book)"
   ]
  },
  {
   "cell_type": "markdown",
   "metadata": {},
   "source": [
    "## Let's create our own NLP pipeline with Spacy!"
   ]
  },
  {
   "cell_type": "markdown",
   "metadata": {},
   "source": [
    "### Step 1: Sentence splitting\n",
    "\n",
    "#### May sound trivial, but it's not! (e.g., U.K. or Yahoo!) Spacy uses a statistical model to generate accurate predictions. This works well out of the box for general-purpose text or web text. For social media use dedicated libraries."
   ]
  },
  {
   "cell_type": "code",
   "execution_count": 10,
   "metadata": {},
   "outputs": [
    {
     "name": "stdout",
     "output_type": "stream",
     "text": [
      "Sentence 1: Frankenstein, or the Modern Prometheus by Mary Wollstonecraft (Godwin) \n",
      "\n",
      "Sentence 2: Shelley Letter 1 St. Petersburgh, Dec. 11th, 17-- TO Mrs. Saville, England You will rejoice to hear that no disaster has accompanied the commencement of an enterprise which you have regarded with such evil forebodings. \n",
      "\n",
      "Sentence 3: I arrived here yesterday, and my first task is to assure my dear sister of my welfare and increasing confidence in the success of my undertaking. \n",
      "\n"
     ]
    }
   ],
   "source": [
    "sentences = [sent for sent in doc.sents]\n",
    "print('Sentence 1:',sentences[0],'\\n')\n",
    "print('Sentence 2:',sentences[1],'\\n')\n",
    "print('Sentence 3:',sentences[2],'\\n')"
   ]
  },
  {
   "cell_type": "markdown",
   "metadata": {},
   "source": [
    "### Step 2: Tokenization\n",
    "\n",
    "#### The task of splitting a text into meaningful segments called tokens. We segment the sentence into words, punctuation, etc. This is done by first splitting on whitespace characters and them applying rules specific to each language. For example, \"don't\" does not contain whitespace, but should be split into two tokens, \"do\" and \"n't\", while \"U.K.\" should always remain one token and \"but,\" shouldn't."
   ]
  },
  {
   "cell_type": "markdown",
   "metadata": {},
   "source": [
    "### We will analyze the methods on an example sentence first"
   ]
  },
  {
   "cell_type": "code",
   "execution_count": 11,
   "metadata": {},
   "outputs": [
    {
     "name": "stdout",
     "output_type": "stream",
     "text": [
      "I am already far north of London, and as I walk in the streets of Petersburgh, I feel a cold northern breeze play upon my cheeks, which braces my nerves and fills me with delight. \n",
      "\n",
      "['I', 'am', 'already', 'far', 'north', 'of', 'London', ',', 'and', 'as', 'I', 'walk', 'in', 'the', 'streets', 'of', 'Petersburgh', ',', 'I', 'feel', 'a', 'cold', 'northern', 'breeze', 'play', 'upon', 'my', 'cheeks', ',', 'which', 'braces', 'my', 'nerves', 'and', 'fills', 'me', 'with', 'delight', '.']\n"
     ]
    }
   ],
   "source": [
    "example = 'I am already far north of London, and as I walk in the streets of Petersburgh, I feel a cold northern breeze play upon my cheeks, which braces my nerves and fills me with delight.'\n",
    "\n",
    "doc = nlp(example)\n",
    "\n",
    "#strings are encoded to hashes\n",
    "tokens = [token.text for token in doc]\n",
    "\n",
    "print(example,'\\n')\n",
    "print(tokens)"
   ]
  },
  {
   "cell_type": "markdown",
   "metadata": {},
   "source": [
    "### Step 3: Part of speech tagging\n",
    "\n",
    "#### The model makes a prediction of which tag or label most likely applies in this context. For example, a word following \"the\" in English is most likely a noun."
   ]
  },
  {
   "cell_type": "code",
   "execution_count": 12,
   "metadata": {},
   "outputs": [
    {
     "name": "stdout",
     "output_type": "stream",
     "text": [
      "I am already far north of London, and as I walk in the streets of Petersburgh, I feel a cold northern breeze play upon my cheeks, which braces my nerves and fills me with delight. \n",
      "\n",
      "[('I', 'PRON'), ('am', 'AUX'), ('already', 'ADV'), ('far', 'ADV'), ('north', 'ADV'), ('of', 'ADP'), ('London', 'PROPN'), (',', 'PUNCT'), ('and', 'CCONJ'), ('as', 'SCONJ'), ('I', 'PRON'), ('walk', 'VERB'), ('in', 'ADP'), ('the', 'DET'), ('streets', 'NOUN'), ('of', 'ADP'), ('Petersburgh', 'PROPN'), (',', 'PUNCT'), ('I', 'PRON'), ('feel', 'VERB'), ('a', 'DET'), ('cold', 'ADJ'), ('northern', 'ADJ'), ('breeze', 'NOUN'), ('play', 'VERB'), ('upon', 'SCONJ'), ('my', 'PRON'), ('cheeks', 'NOUN'), (',', 'PUNCT'), ('which', 'PRON'), ('braces', 'VERB'), ('my', 'PRON'), ('nerves', 'NOUN'), ('and', 'CCONJ'), ('fills', 'VERB'), ('me', 'PRON'), ('with', 'ADP'), ('delight', 'NOUN'), ('.', 'PUNCT')]\n"
     ]
    }
   ],
   "source": [
    "pos_tagged = [(token.text, token.pos_) for token in doc]\n",
    "\n",
    "print(example,'\\n')\n",
    "print(pos_tagged)"
   ]
  },
  {
   "cell_type": "code",
   "execution_count": 13,
   "metadata": {},
   "outputs": [
    {
     "name": "stdout",
     "output_type": "stream",
     "text": [
      "coordinating conjunction\n",
      "adposition\n",
      "determiner\n"
     ]
    }
   ],
   "source": [
    "print(spacy.explain('CCONJ'))\n",
    "print(spacy.explain('ADP'))\n",
    "print(spacy.explain('DET'))"
   ]
  },
  {
   "cell_type": "markdown",
   "metadata": {},
   "source": [
    "### When unsure, see here for more details: http://universaldependencies.org/u/pos/all.html"
   ]
  },
  {
   "cell_type": "markdown",
   "metadata": {},
   "source": [
    "#### More detailed annotation:"
   ]
  },
  {
   "cell_type": "code",
   "execution_count": 14,
   "metadata": {},
   "outputs": [
    {
     "name": "stdout",
     "output_type": "stream",
     "text": [
      "[('I', 'PRP'), ('am', 'VBP'), ('already', 'RB'), ('far', 'RB'), ('north', 'RB'), ('of', 'IN'), ('London', 'NNP'), (',', ','), ('and', 'CC'), ('as', 'IN'), ('I', 'PRP'), ('walk', 'VBP'), ('in', 'IN'), ('the', 'DT'), ('streets', 'NNS'), ('of', 'IN'), ('Petersburgh', 'NNP'), (',', ','), ('I', 'PRP'), ('feel', 'VBP'), ('a', 'DT'), ('cold', 'JJ'), ('northern', 'JJ'), ('breeze', 'NN'), ('play', 'VB'), ('upon', 'IN'), ('my', 'PRP$'), ('cheeks', 'NNS'), (',', ','), ('which', 'WDT'), ('braces', 'VBZ'), ('my', 'PRP$'), ('nerves', 'NNS'), ('and', 'CC'), ('fills', 'VBZ'), ('me', 'PRP'), ('with', 'IN'), ('delight', 'NN'), ('.', '.')]\n"
     ]
    }
   ],
   "source": [
    "pos_tagged = [(token.text, token.tag_) for token in doc]\n",
    "\n",
    "print(pos_tagged)"
   ]
  },
  {
   "cell_type": "code",
   "execution_count": 15,
   "metadata": {},
   "outputs": [
    {
     "name": "stdout",
     "output_type": "stream",
     "text": [
      "pronoun, personal\n",
      "verb, non-3rd person singular present\n"
     ]
    }
   ],
   "source": [
    "print(spacy.explain('PRP'))\n",
    "print(spacy.explain('VBP'))"
   ]
  },
  {
   "cell_type": "markdown",
   "metadata": {},
   "source": [
    "### Step 4: Named entity recognition\n",
    "\n",
    "#### For example, a person, a country, a product or a book title. Spacy can recognise various types of named entities in a document. This doesn't always work perfectly and might need some tuning later, depending on your use case.\n",
    "\n",
    "Built in entity types: <br>\n",
    "\n",
    "PERSON  People, including fictional.  <br>\n",
    "NORP\tNationalities or religious or political groups. <br>\n",
    "FAC\tBuildings, airports, highways, bridges, etc. <br>\n",
    "ORG\tCompanies, agencies, institutions, etc. <br>\n",
    "GPE\tCountries, cities, states. <br>\n",
    "LOC\tNon-GPE locations, mountain ranges, bodies of water. <br>\n",
    "PRODUCT\tObjects, vehicles, foods, etc. (Not services.) <br>\n",
    "EVENT\tNamed hurricanes, battles, wars, sports events, etc. <br>\n",
    "WORK_OF_ART\tTitles of books, songs, etc. <br>\n",
    "LAW\tNamed documents made into laws. <br>\n",
    "LANGUAGE\tAny named language. <br>\n",
    "DATE\tAbsolute or relative dates or periods. <br>\n",
    "TIME\tTimes smaller than a day. <br>\n",
    "PERCENT\tPercentage, including \"%\". <br>\n",
    "MONEY\tMonetary values, including unit. <br>\n",
    "QUANTITY\tMeasurements, as of weight or distance. <br>\n",
    "ORDINAL\t\"first\", \"second\", etc. <br>\n",
    "CARDINAL\tNumerals that do not fall under another type. <br>"
   ]
  },
  {
   "cell_type": "code",
   "execution_count": 16,
   "metadata": {},
   "outputs": [
    {
     "name": "stdout",
     "output_type": "stream",
     "text": [
      "I am already far north of London, and as I walk in the streets of Petersburgh, I feel a cold northern breeze play upon my cheeks, which braces my nerves and fills me with delight. \n",
      "\n",
      "London GPE\n",
      "Petersburgh GPE\n"
     ]
    }
   ],
   "source": [
    "print(example,'\\n')\n",
    "for ent in doc.ents:\n",
    "    print(ent.text, ent.label_)"
   ]
  },
  {
   "cell_type": "markdown",
   "metadata": {},
   "source": [
    "### Step 5: Removing stop words"
   ]
  },
  {
   "cell_type": "markdown",
   "metadata": {},
   "source": [
    "Let's check out all the stopwords:"
   ]
  },
  {
   "cell_type": "code",
   "execution_count": 17,
   "metadata": {},
   "outputs": [
    {
     "name": "stdout",
     "output_type": "stream",
     "text": [
      "Number of stop words: 326\n",
      "First ten stop words: ['up', 'therefore', 'against', 'his', 'move', 'side', 'its', 'this', \"'re\", 'themselves']\n"
     ]
    }
   ],
   "source": [
    "spacy_stopwords = spacy.lang.en.stop_words.STOP_WORDS\n",
    "print('Number of stop words: %d' % len(spacy_stopwords))\n",
    "print('First ten stop words:',list(spacy_stopwords)[:10])"
   ]
  },
  {
   "cell_type": "markdown",
   "metadata": {},
   "source": [
    "Detecting stopwords in the example:"
   ]
  },
  {
   "cell_type": "code",
   "execution_count": 18,
   "metadata": {},
   "outputs": [
    {
     "name": "stdout",
     "output_type": "stream",
     "text": [
      "I am already far north of London, and as I walk in the streets of Petersburgh, I feel a cold northern breeze play upon my cheeks, which braces my nerves and fills me with delight. \n",
      "\n",
      "['I', 'am', 'already', 'of', 'and', 'as', 'I', 'in', 'the', 'of', 'I', 'a', 'upon', 'my', 'which', 'my', 'and', 'me', 'with']\n"
     ]
    }
   ],
   "source": [
    "print(example,'\\n')\n",
    "\n",
    "stop_words = [token.text for token in doc if token.is_stop]\n",
    "\n",
    "print(stop_words)"
   ]
  },
  {
   "cell_type": "markdown",
   "metadata": {},
   "source": [
    "#### Sometimes it's useful to define a custom list of stopwords. Other solutions: https://www.ranks.nl/stopwords \n"
   ]
  },
  {
   "cell_type": "markdown",
   "metadata": {},
   "source": [
    "### Step 6: Lemmatization\n",
    "\n",
    "#### A rule-based deterministic lemmatizer maps the surface form of a token to a lemma."
   ]
  },
  {
   "cell_type": "code",
   "execution_count": 19,
   "metadata": {},
   "outputs": [
    {
     "name": "stdout",
     "output_type": "stream",
     "text": [
      "I am already far north of London, and as I walk in the streets of Petersburgh, I feel a cold northern breeze play upon my cheeks, which braces my nerves and fills me with delight. \n",
      "\n",
      "am ---> be\n",
      "streets ---> street\n",
      "cheeks ---> cheek\n",
      "braces ---> brace\n",
      "nerves ---> nerve\n",
      "fills ---> fill\n",
      "me ---> I\n"
     ]
    }
   ],
   "source": [
    "print(example,'\\n')\n",
    "for token in doc:\n",
    "    if token.text != token.lemma_:\n",
    "        print(token.text,'--->',token.lemma_)"
   ]
  },
  {
   "cell_type": "markdown",
   "metadata": {},
   "source": [
    "### Step 7: Chunking (shallow parsing)\n",
    "\n",
    "#### Noun chunks are \"base noun phrases\" – flat phrases that have a noun as their head -- a noun plus the words describing the noun – for example, \"the lavish green grass\" or \"the world’s largest tech fund\". "
   ]
  },
  {
   "cell_type": "code",
   "execution_count": 20,
   "metadata": {},
   "outputs": [
    {
     "name": "stdout",
     "output_type": "stream",
     "text": [
      "I am already far north of London, and as I walk in the streets of Petersburgh, I feel a cold northern breeze play upon my cheeks, which braces my nerves and fills me with delight. \n",
      "\n",
      "I\n",
      "London\n",
      "I\n",
      "the streets\n",
      "Petersburgh\n",
      "I\n",
      "my cheeks\n",
      "which\n",
      "my nerves\n",
      "me\n",
      "delight\n"
     ]
    }
   ],
   "source": [
    "print(example,'\\n')\n",
    "\n",
    "for chunk in doc.noun_chunks:\n",
    "    print(chunk.text)"
   ]
  },
  {
   "cell_type": "markdown",
   "metadata": {},
   "source": [
    "### Step 8: Dependancy parsing\n",
    "\n",
    "#### The terms head and child describe the words connected by an arc in the dependency tree. The type of syntactic relation that connects the child to the head can be obtain through .dep_."
   ]
  },
  {
   "cell_type": "code",
   "execution_count": 21,
   "metadata": {},
   "outputs": [
    {
     "name": "stdout",
     "output_type": "stream",
     "text": [
      "I am already far north of London, and as I walk in the streets of Petersburgh, I feel a cold northern breeze play upon my cheeks, which braces my nerves and fills me with delight. \n",
      "\n",
      "Token: I Head: am Children: []\n",
      "Token: am Head: am Children: [I, already, north, ,, and, feel]\n",
      "Token: already Head: am Children: []\n",
      "Token: far Head: north Children: []\n",
      "Token: north Head: am Children: [far, of]\n",
      "Token: of Head: north Children: [London]\n",
      "Token: London Head: of Children: []\n",
      "Token: , Head: am Children: []\n",
      "Token: and Head: am Children: []\n",
      "Token: as Head: walk Children: []\n",
      "Token: I Head: walk Children: []\n",
      "Token: walk Head: feel Children: [as, I, in]\n",
      "Token: in Head: walk Children: [streets]\n",
      "Token: the Head: streets Children: []\n",
      "Token: streets Head: in Children: [the, of]\n",
      "Token: of Head: streets Children: [Petersburgh]\n",
      "Token: Petersburgh Head: of Children: []\n",
      "Token: , Head: feel Children: []\n",
      "Token: I Head: feel Children: []\n",
      "Token: feel Head: am Children: [walk, ,, I, play, .]\n",
      "Token: a Head: play Children: []\n",
      "Token: cold Head: breeze Children: []\n",
      "Token: northern Head: breeze Children: []\n",
      "Token: breeze Head: play Children: [cold, northern]\n",
      "Token: play Head: feel Children: [a, breeze, upon]\n",
      "Token: upon Head: play Children: [cheeks]\n",
      "Token: my Head: cheeks Children: []\n",
      "Token: cheeks Head: upon Children: [my, ,, braces]\n",
      "Token: , Head: cheeks Children: []\n",
      "Token: which Head: braces Children: []\n",
      "Token: braces Head: cheeks Children: [which, nerves, and, fills]\n",
      "Token: my Head: nerves Children: []\n",
      "Token: nerves Head: braces Children: [my]\n",
      "Token: and Head: braces Children: []\n",
      "Token: fills Head: braces Children: [me, with]\n",
      "Token: me Head: fills Children: []\n",
      "Token: with Head: fills Children: [delight]\n",
      "Token: delight Head: with Children: []\n",
      "Token: . Head: feel Children: []\n"
     ]
    }
   ],
   "source": [
    "print(example,'\\n')\n",
    "\n",
    "for token in doc:\n",
    "    print('Token:',token.text,'Head:',token.head.text, 'Children:',[child for child in token.children])"
   ]
  },
  {
   "cell_type": "markdown",
   "metadata": {},
   "source": [
    "### Counting word occurences"
   ]
  },
  {
   "cell_type": "code",
   "execution_count": 22,
   "metadata": {},
   "outputs": [
    {
     "name": "stdout",
     "output_type": "stream",
     "text": [
      "I am already far north of London, and as I walk in the streets of Petersburgh, I feel a cold northern breeze play upon my cheeks, which braces my nerves and fills me with delight. \n",
      "\n",
      "[('I', 3), (',', 3), ('of', 2), ('and', 2), ('my', 2), ('am', 1), ('already', 1), ('far', 1), ('north', 1), ('London', 1), ('as', 1), ('walk', 1), ('in', 1), ('the', 1), ('streets', 1), ('Petersburgh', 1), ('feel', 1), ('a', 1), ('cold', 1), ('northern', 1), ('breeze', 1), ('play', 1), ('upon', 1), ('cheeks', 1), ('which', 1), ('braces', 1), ('nerves', 1), ('fills', 1), ('me', 1), ('with', 1), ('delight', 1), ('.', 1)]\n"
     ]
    }
   ],
   "source": [
    "from collections import Counter\n",
    "\n",
    "print(example,'\\n')\n",
    "words = [token.text for token in doc]\n",
    "\n",
    "# five most common tokens\n",
    "word_freq = Counter(words)\n",
    "common_words = word_freq.most_common()\n",
    "\n",
    "print(common_words)"
   ]
  },
  {
   "cell_type": "markdown",
   "metadata": {},
   "source": [
    "### Without stop words and punctuation"
   ]
  },
  {
   "cell_type": "code",
   "execution_count": 23,
   "metadata": {},
   "outputs": [
    {
     "name": "stdout",
     "output_type": "stream",
     "text": [
      "[('far', 1), ('north', 1), ('London', 1), ('walk', 1), ('streets', 1), ('Petersburgh', 1), ('feel', 1), ('cold', 1), ('northern', 1), ('breeze', 1), ('play', 1), ('cheeks', 1), ('braces', 1), ('nerves', 1), ('fills', 1), ('delight', 1)]\n"
     ]
    }
   ],
   "source": [
    "words = [token.text for token in doc if token.is_stop != True and token.is_punct != True]\n",
    "\n",
    "# five most common tokens\n",
    "word_freq = Counter(words)\n",
    "common_words = word_freq.most_common()\n",
    "\n",
    "print(common_words)"
   ]
  },
  {
   "cell_type": "markdown",
   "metadata": {},
   "source": [
    "## Putting all the components together"
   ]
  },
  {
   "cell_type": "markdown",
   "metadata": {},
   "source": [
    "### Under the hood: the pipeline [\"tokenizer\",\"tagger\", \"parser\", \"ner\"]."
   ]
  },
  {
   "cell_type": "markdown",
   "metadata": {},
   "source": [
    "#### The NLP pipeline with Spacy\n",
    "<img src=\"spacy.png\">"
   ]
  },
  {
   "cell_type": "code",
   "execution_count": 24,
   "metadata": {},
   "outputs": [],
   "source": [
    "nlp = spacy.load('en_core_web_sm')"
   ]
  },
  {
   "cell_type": "markdown",
   "metadata": {},
   "source": [
    "### If you don't need a particular component of the pipeline – for example, the tagger or the parser, you can disable loading it. This can sometimes make a big difference and improve loading speed. "
   ]
  },
  {
   "cell_type": "code",
   "execution_count": 25,
   "metadata": {},
   "outputs": [
    {
     "data": {
      "text/plain": [
       "('tagger', <spacy.pipeline.tagger.Tagger at 0x7fdf47188580>)"
      ]
     },
     "execution_count": 25,
     "metadata": {},
     "output_type": "execute_result"
    }
   ],
   "source": [
    "nlp.remove_pipe('parser')\n",
    "nlp.remove_pipe('tagger')"
   ]
  },
  {
   "cell_type": "markdown",
   "metadata": {},
   "source": [
    "# Task 1: Sentiment analysis"
   ]
  },
  {
   "cell_type": "markdown",
   "metadata": {},
   "source": [
    "### Initialize the analyzer. Typically used for data from social media (short sentences)."
   ]
  },
  {
   "cell_type": "code",
   "execution_count": 26,
   "metadata": {},
   "outputs": [],
   "source": [
    "analyzer = SentimentIntensityAnalyzer()\n",
    "vs = analyzer.polarity_scores(example)"
   ]
  },
  {
   "cell_type": "markdown",
   "metadata": {},
   "source": [
    "### The sentiment score consits of four values. Neutral, positive and negative sum to one. The final score is obtained by thresholding the compound value (e.g. +/-0.05)."
   ]
  },
  {
   "cell_type": "code",
   "execution_count": 27,
   "metadata": {},
   "outputs": [
    {
     "name": "stdout",
     "output_type": "stream",
     "text": [
      "I am already far north of London, and as I walk in the streets of Petersburgh, I feel a cold northern breeze play upon my cheeks, which braces my nerves and fills me with delight. \n",
      "\n",
      "Negative sentiment: 0.035\n",
      "Neutral sentiment: 0.806\n",
      "Positive sentiment: 0.159\n",
      "Compound sentiment: 0.7096\n"
     ]
    }
   ],
   "source": [
    "print(example, '\\n')\n",
    "print('Negative sentiment:',vs['neg'])\n",
    "print('Neutral sentiment:',vs['neu'])\n",
    "print('Positive sentiment:',vs['pos'])\n",
    "print('Compound sentiment:',vs['compound'])"
   ]
  },
  {
   "cell_type": "markdown",
   "metadata": {},
   "source": [
    "### We can now observe the distributions of sentiment across all sentences in the book Pride and Prejudice:"
   ]
  },
  {
   "cell_type": "code",
   "execution_count": 28,
   "metadata": {},
   "outputs": [],
   "source": [
    "nlp = spacy.load('en_core_web_sm')\n",
    "doc = nlp(books[3])"
   ]
  },
  {
   "cell_type": "code",
   "execution_count": 29,
   "metadata": {},
   "outputs": [
    {
     "data": {
      "text/plain": [
       "Text(0, 0.5, 'Number of sentences')"
      ]
     },
     "execution_count": 29,
     "metadata": {},
     "output_type": "execute_result"
    },
    {
     "data": {
      "image/png": "[encoded data removed]",
      "text/plain": [
       "<Figure size 640x480 with 1 Axes>"
      ]
     },
     "metadata": {},
     "output_type": "display_data"
    }
   ],
   "source": [
    "positive_sent = []\n",
    "#iterate through the sentences, get polarity scores, choose a value\n",
    "[positive_sent.append(analyzer.polarity_scores(sent.text)['pos']) for sent in doc.sents]\n",
    "plt.hist(positive_sent,bins=15)\n",
    "plt.xlim([0,1])\n",
    "plt.ylim([0,8000])\n",
    "plt.xlabel('Positive sentiment')\n",
    "plt.ylabel('Number of sentences')"
   ]
  },
  {
   "cell_type": "code",
   "execution_count": 30,
   "metadata": {},
   "outputs": [
    {
     "data": {
      "text/plain": [
       "Text(0, 0.5, 'Number of sentences')"
      ]
     },
     "execution_count": 30,
     "metadata": {},
     "output_type": "execute_result"
    },
    {
     "data": {
      "image/png": "[encoded data removed]",
      "text/plain": [
       "<Figure size 640x480 with 1 Axes>"
      ]
     },
     "metadata": {},
     "output_type": "display_data"
    }
   ],
   "source": [
    "negative_sent = []\n",
    "[negative_sent.append(analyzer.polarity_scores(sent.text)['neg']) for sent in doc.sents]\n",
    "plt.hist(negative_sent,bins=15)\n",
    "plt.xlim([0,1])\n",
    "plt.ylim([0,8000])\n",
    "plt.xlabel('Negative sentiment')\n",
    "plt.ylabel('Number of sentences')"
   ]
  },
  {
   "cell_type": "code",
   "execution_count": 31,
   "metadata": {},
   "outputs": [
    {
     "data": {
      "text/plain": [
       "Text(0, 0.5, 'Number of sentences')"
      ]
     },
     "execution_count": 31,
     "metadata": {},
     "output_type": "execute_result"
    },
    {
     "data": {
      "image/png": "[encoded data removed]",
      "text/plain": [
       "<Figure size 640x480 with 1 Axes>"
      ]
     },
     "metadata": {},
     "output_type": "display_data"
    }
   ],
   "source": [
    "total_sent = []\n",
    "[total_sent.append(analyzer.polarity_scores(sent.text)['compound']) for sent in doc.sents]\n",
    "plt.hist(total_sent,bins = 15)\n",
    "plt.xlim([-1,1])\n",
    "plt.ylim([0,8000])\n",
    "plt.xlabel('Compound sentiment')\n",
    "plt.ylabel('Number of sentences')"
   ]
  },
  {
   "cell_type": "code",
   "execution_count": 32,
   "metadata": {},
   "outputs": [
    {
     "name": "stdout",
     "output_type": "stream",
     "text": [
      "Number of positive sentences: 2724\n",
      "Number of negative sentences: 1339\n",
      "Number of neutral sentences: 1863\n"
     ]
    }
   ],
   "source": [
    "sents = [analyzer.polarity_scores(sent.text)['compound'] for sent in doc.sents]\n",
    "print('Number of positive sentences:',sum(np.array(sents)>=0.05))\n",
    "print('Number of negative sentences:',sum(np.array(sents)<=-0.05))\n",
    "print('Number of neutral sentences:',sum(np.abs(np.array(sents))<0.05))"
   ]
  },
  {
   "cell_type": "markdown",
   "metadata": {},
   "source": [
    "#### Most of the sentences are quite neutral in sentiment. This is not the case when working with data from other sources (e.g., in social media opinions are strong and polarized (bimodal distribution))."
   ]
  },
  {
   "cell_type": "markdown",
   "metadata": {},
   "source": [
    "# Task 2: Document classification: Can we detect paragraphs from Frankenstein?"
   ]
  },
  {
   "cell_type": "code",
   "execution_count": 34,
   "metadata": {},
   "outputs": [
    {
     "name": "stdout",
     "output_type": "stream",
     "text": [
      "['DRACULA.txt', 'Frankenstein.txt', 'Moby_Dick.txt', 'PRIDE_AND_PREJUDICE.txt']\n"
     ]
    }
   ],
   "source": [
    "# Let's load our corpus via NLTK this time\n",
    "from nltk.corpus import PlaintextCorpusReader\n",
    "\n",
    "our_books = PlaintextCorpusReader(corpus_root, '.*.txt')\n",
    "print(our_books.fileids())"
   ]
  },
  {
   "cell_type": "markdown",
   "metadata": {},
   "source": [
    "### We will segment the books into equally long chunks"
   ]
  },
  {
   "cell_type": "code",
   "execution_count": 35,
   "metadata": {},
   "outputs": [
    {
     "name": "stdout",
     "output_type": "stream",
     "text": [
      "DRACULA.txt :\n",
      "Number of sentences: 9303\n",
      "Number of chunks: 187 \n",
      "\n",
      "Frankenstein.txt :\n",
      "Number of sentences: 3378\n",
      "Number of chunks: 68 \n",
      "\n",
      "Moby_Dick.txt :\n",
      "Number of sentences: 9609\n",
      "Number of chunks: 193 \n",
      "\n",
      "PRIDE_AND_PREJUDICE.txt :\n",
      "Number of sentences: 6055\n",
      "Number of chunks: 122 \n",
      "\n"
     ]
    }
   ],
   "source": [
    "def get_chunks(l, n):\n",
    "    \"\"\"Yield successive n-sized chunks from l.\"\"\"\n",
    "    for i in range(0, len(l), n):\n",
    "        yield l[i:i + n]\n",
    "\n",
    "\n",
    "# Get the data\n",
    "book_id = {f:n for n,f in enumerate(our_books.fileids())} # dictionary of books\n",
    "\n",
    "chunks = list()\n",
    "chunk_class = list() # this list contains the original book of the chunk, for evaluation\n",
    "\n",
    "limit = 500 # how many chunks total\n",
    "size = 50 # how many sentences per chunk/page\n",
    "\n",
    "for f in our_books.fileids():\n",
    "    sentences = our_books.sents(f)\n",
    "    print(f,\":\")\n",
    "    print('Number of sentences:',len(sentences))\n",
    "    \n",
    "    # create chunks\n",
    "    chunks_of_sents = [x for x in get_chunks(sentences,size)] # this is a list of lists of sentences, which are a list of tokens\n",
    "    chs = list()\n",
    "    \n",
    "    # regroup so to have a list of chunks which are strings\n",
    "    for c in chunks_of_sents:\n",
    "        grouped_chunk = list()\n",
    "        for s in c:\n",
    "            grouped_chunk.extend(s)\n",
    "        chs.append(\" \".join(grouped_chunk))\n",
    "    print(\"Number of chunks:\",len(chs),'\\n')\n",
    "    \n",
    "    # filter to the limit, to have the same number of chunks per book\n",
    "    chunks.extend(chs[:limit])\n",
    "    chunk_class.extend([book_id[f] for _ in range(len(chs[:limit]))])"
   ]
  },
  {
   "cell_type": "markdown",
   "metadata": {},
   "source": [
    "### Representing the chunks with bag-of-words"
   ]
  },
  {
   "cell_type": "code",
   "execution_count": 38,
   "metadata": {},
   "outputs": [
    {
     "name": "stdout",
     "output_type": "stream",
     "text": [
      "Number of samples: 570\n",
      "Number of features: 23116\n"
     ]
    }
   ],
   "source": [
    "vectorizer = CountVectorizer()\n",
    "\n",
    "#initialize and specify minumum number of occurences to avoid untractable number of features\n",
    "#vectorizer = CountVectorizer(min_df = 2) if we want high frequency\n",
    "\n",
    "#create bag of words features\n",
    "X = vectorizer.fit_transform(chunks)\n",
    "\n",
    "print('Number of samples:',X.toarray().shape[0])\n",
    "print('Number of features:',X.toarray().shape[1])\n",
    "\n",
    "#mask and convert to int Frankenstein\n",
    "Y = np.array(chunk_class) == 1\n",
    "Y = Y.astype(int)  \n",
    "\n",
    "#shuffle the data\n",
    "X, Y = shuffle(X, Y, random_state=0)\n",
    "\n",
    "#split into training and test set\n",
    "X_train, X_test, Y_train, Y_test = train_test_split(X, Y, test_size=0.2, random_state=42)"
   ]
  },
  {
   "cell_type": "markdown",
   "metadata": {},
   "source": [
    "### Let's fit the regularized logistic regression. We will crossvalidate the regularization parameter on the training set."
   ]
  },
  {
   "cell_type": "code",
   "execution_count": 39,
   "metadata": {},
   "outputs": [],
   "source": [
    "accs = []\n",
    "\n",
    "#the grid of regularization parameter \n",
    "grid = [0.01,0.1,1,10,100,1000,10000]\n",
    "\n",
    "for c in grid:\n",
    "    \n",
    "    #initialize the classifier\n",
    "    clf = LogisticRegression(random_state=0, solver='lbfgs',C = c)\n",
    "    \n",
    "    #crossvalidate\n",
    "    scores = cross_val_score(clf, X_train,Y_train, cv=10)\n",
    "    accs.append(np.mean(scores))"
   ]
  },
  {
   "cell_type": "code",
   "execution_count": 40,
   "metadata": {},
   "outputs": [
    {
     "data": {
      "text/plain": [
       "(0.986, 1.0)"
      ]
     },
     "execution_count": 40,
     "metadata": {},
     "output_type": "execute_result"
    },
    {
     "data": {
      "image/png": "[encoded data removed]",
      "text/plain": [
       "<Figure size 640x480 with 1 Axes>"
      ]
     },
     "metadata": {},
     "output_type": "display_data"
    }
   ],
   "source": [
    "plt.plot(accs)\n",
    "plt.xticks(range(len(grid)), grid)\n",
    "plt.xlabel('Regularization parameter \\n (Low - strong regularization, High - weak regularization)')\n",
    "plt.ylabel('Crossvalidation accuracy')\n",
    "plt.ylim([0.986,1])"
   ]
  },
  {
   "cell_type": "markdown",
   "metadata": {},
   "source": [
    "### Let's train again, on the entire training set, with the chosen regularization parameter. We will test on the test set"
   ]
  },
  {
   "cell_type": "code",
   "execution_count": 41,
   "metadata": {},
   "outputs": [
    {
     "name": "stdout",
     "output_type": "stream",
     "text": [
      "Accuracy: 0.9824561403508771\n"
     ]
    }
   ],
   "source": [
    "clf = LogisticRegression(random_state=0, solver='lbfgs',C = 10).fit(X_train,Y_train)\n",
    "\n",
    "#predict on the test set\n",
    "print('Accuracy:',clf.score(X_test,Y_test))"
   ]
  },
  {
   "cell_type": "markdown",
   "metadata": {},
   "source": [
    "### What features characterize Frankenstein? BOW are interpretable!"
   ]
  },
  {
   "cell_type": "code",
   "execution_count": 42,
   "metadata": {},
   "outputs": [
    {
     "name": "stdout",
     "output_type": "stream",
     "text": [
      "['frankenstein' 'of' 'who' 'but' 'poor' 'by' 'which' 'father' 'my' 'this'\n",
      " 'had' 'yet' 'and' 'death' 'towards' 'will' 'creature' 'me' 'justine'\n",
      " 'misery']\n"
     ]
    }
   ],
   "source": [
    "coefs=clf.coef_[0]\n",
    "top_three = np.argpartition(coefs, -20)[-20:]\n",
    "\n",
    "print(np.array(vectorizer.get_feature_names())[top_three])"
   ]
  },
  {
   "cell_type": "markdown",
   "metadata": {},
   "source": [
    "### We can perfectly predict paragraphs from Frankenstein! We saw issues of high dimensionality when using bag of words (more features than samples) and how regularization helps."
   ]
  },
  {
   "cell_type": "markdown",
   "metadata": {},
   "source": [
    "### Alternative text representation: word emdeddings, pretrained on intergraded in Spacy (300-dimensional word vectors trained on Common Crawl with GloVe.) Depending on the application, might be suitable or not"
   ]
  },
  {
   "cell_type": "code",
   "execution_count": 43,
   "metadata": {},
   "outputs": [
    {
     "name": "stdout",
     "output_type": "stream",
     "text": [
      "I am already far north of London, and as I walk in the streets of Petersburgh, I feel a cold northern breeze play upon my cheeks, which braces my nerves and fills me with delight. \n",
      "\n",
      "Embedding representation: [-0.06188344, 0.080382735, 0.066186234, 0.10680722, -0.11235807, -0.2166132, 0.2031052, -0.13948984, 0.15524133, -0.20551799] ...\n"
     ]
    }
   ],
   "source": [
    "print(example,'\\n')\n",
    "print('Embedding representation:',list((nlp(example).vector)[0:10]),'...')"
   ]
  },
  {
   "cell_type": "markdown",
   "metadata": {},
   "source": [
    "# Task 3: Topic detection"
   ]
  },
  {
   "cell_type": "code",
   "execution_count": 44,
   "metadata": {},
   "outputs": [
    {
     "name": "stdout",
     "output_type": "stream",
     "text": [
      "DRACULA.txt\n",
      "Number of sentences: 9303\n",
      "Number of chunks: 187 \n",
      "\n",
      "Frankenstein.txt\n",
      "Number of sentences: 3378\n",
      "Number of chunks: 68 \n",
      "\n",
      "Moby_Dick.txt\n",
      "Number of sentences: 9609\n",
      "Number of chunks: 193 \n",
      "\n",
      "PRIDE_AND_PREJUDICE.txt\n",
      "Number of sentences: 6055\n",
      "Number of chunks: 122 \n",
      "\n"
     ]
    }
   ],
   "source": [
    "# Get the chunks again (into smaller chunks)\n",
    "book_id = {f:n for n,f in enumerate(our_books.fileids())} # dictionary of books\n",
    "chunks = list()\n",
    "chunk_class = list() # this list contains the original book of the chunk, for evaluation\n",
    "\n",
    "limit = 60 # how many chunks total\n",
    "size = 50 # how many sentences per chunk/page\n",
    "\n",
    "for f in our_books.fileids():\n",
    "    sentences = our_books.sents(f)\n",
    "    print(f)\n",
    "    print('Number of sentences:',len(sentences))\n",
    "    \n",
    "    # create chunks\n",
    "    chunks_of_sents = [x for x in get_chunks(sentences,size)] # this is a list of lists of sentences, which are a list of tokens\n",
    "    chs = list()\n",
    "    \n",
    "    # regroup so to have a list of chunks which are strings\n",
    "    for c in chunks_of_sents:\n",
    "        grouped_chunk = list()\n",
    "        for s in c:\n",
    "            grouped_chunk.extend(s)\n",
    "        chs.append(\" \".join(grouped_chunk))\n",
    "    print(\"Number of chunks:\",len(chs),'\\n')\n",
    "    \n",
    "    # filter to the limit, to have the same number of chunks per book\n",
    "    chunks.extend(chs[:limit])\n",
    "    chunk_class.extend([book_id[f] for _ in range(len(chs[:limit]))])"
   ]
  },
  {
   "cell_type": "code",
   "execution_count": 45,
   "metadata": {},
   "outputs": [],
   "source": [
    "STOPWORDS = spacy.lang.en.stop_words.STOP_WORDS\n",
    "\n",
    "processed_docs = list()\n",
    "for doc in nlp.pipe(chunks, n_process=5, batch_size=10):\n",
    "\n",
    "    # Process document using Spacy NLP pipeline.\n",
    "    ents = doc.ents  # Named entities\n",
    "\n",
    "    # Keep only words (no numbers, no punctuation).\n",
    "    # Lemmatize tokens, remove punctuation and remove stopwords.\n",
    "    doc = [token.lemma_ for token in doc if token.is_alpha and not token.is_stop]\n",
    "\n",
    "    # Remove common words from a stopword list and keep only words of length 3 or more.\n",
    "    doc = [token for token in doc if token not in STOPWORDS and len(token) > 2]\n",
    "\n",
    "    # Add named entities, but only if they are a compound of more than word.\n",
    "    doc.extend([str(entity) for entity in ents if len(entity) > 1])\n",
    "\n",
    "    processed_docs.append(doc)\n",
    "docs = processed_docs\n",
    "del processed_docs"
   ]
  },
  {
   "cell_type": "code",
   "execution_count": 46,
   "metadata": {},
   "outputs": [],
   "source": [
    "# Add bigrams too\n",
    "from gensim.models.phrases import Phrases\n",
    "\n",
    "# Add bigrams to docs (only ones that appear 15 times or more).\n",
    "bigram = Phrases(docs, min_count=15)\n",
    "\n",
    "for idx in range(len(docs)):\n",
    "    for token in bigram[docs[idx]]:\n",
    "        if '_' in token:\n",
    "            # Token is a bigram, add to document.\n",
    "            docs[idx].append(token)"
   ]
  },
  {
   "cell_type": "code",
   "execution_count": 47,
   "metadata": {},
   "outputs": [
    {
     "name": "stdout",
     "output_type": "stream",
     "text": [
      "Number of unique tokens: 3073\n",
      "Number of chunks: 240\n"
     ]
    }
   ],
   "source": [
    "# Create a dictionary representation of the documents, and filter out frequent and rare words.\n",
    "from gensim.corpora import Dictionary\n",
    "dictionary = Dictionary(docs)\n",
    "\n",
    "# Remove rare and common tokens.\n",
    "# Filter out words that occur too frequently or too rarely.\n",
    "max_freq = 0.5\n",
    "min_wordcount = 5\n",
    "dictionary.filter_extremes(no_below=min_wordcount, no_above=max_freq)\n",
    "\n",
    "# Bag-of-words representation of the documents.\n",
    "corpus = [dictionary.doc2bow(doc) for doc in docs]\n",
    "#MmCorpus.serialize(\"models/corpus.mm\", corpus)\n",
    "\n",
    "print('Number of unique tokens: %d' % len(dictionary))\n",
    "print('Number of chunks: %d' % len(corpus))"
   ]
  },
  {
   "cell_type": "code",
   "execution_count": 48,
   "metadata": {},
   "outputs": [],
   "source": [
    "# models\n",
    "from gensim.models import LdaMulticore\n",
    "params = {'passes': 10, 'random_state': seed}\n",
    "base_models = dict()\n",
    "model = LdaMulticore(corpus=corpus, num_topics=4, id2word=dictionary, workers=6,\n",
    "                passes=params['passes'], random_state=params['random_state'])"
   ]
  },
  {
   "cell_type": "code",
   "execution_count": 49,
   "metadata": {},
   "outputs": [
    {
     "data": {
      "text/plain": [
       "[(0,\n",
       "  '0.006*\"father\" + 0.005*\"life\" + 0.004*\"feeling\" + 0.004*\"mind\" + 0.004*\"night\"'),\n",
       " (1,\n",
       "  '0.019*\"whale\" + 0.012*\"ship\" + 0.011*\"sea\" + 0.009*\"old\" + 0.007*\"Queequeg\"'),\n",
       " (2,\n",
       "  '0.016*\"Elizabeth\" + 0.011*\"Darcy\" + 0.010*\"Bingley\" + 0.009*\"Miss\" + 0.009*\"Bennet\"'),\n",
       " (3,\n",
       "  '0.009*\"room\" + 0.009*\"night\" + 0.008*\"door\" + 0.007*\"sleep\" + 0.007*\"Lucy\"')]"
      ]
     },
     "execution_count": 49,
     "metadata": {},
     "output_type": "execute_result"
    }
   ],
   "source": [
    "model.show_topics(num_words=5)"
   ]
  },
  {
   "cell_type": "code",
   "execution_count": 50,
   "metadata": {},
   "outputs": [
    {
     "data": {
      "text/plain": [
       "[('whale', 0.01897849),\n",
       " ('ship', 0.011723738),\n",
       " ('sea', 0.010643942),\n",
       " ('old', 0.008658548),\n",
       " ('Queequeg', 0.007100911),\n",
       " ('Captain', 0.0062466203),\n",
       " ('Ahab', 0.005965191),\n",
       " ('head', 0.005057056),\n",
       " ('Bildad', 0.004193366),\n",
       " ('sail', 0.0040963446),\n",
       " ('stand', 0.0039470196),\n",
       " ('Peleg', 0.0038649237),\n",
       " ('world', 0.0037362592),\n",
       " ('deck', 0.0036862388),\n",
       " ('thou', 0.0036681746),\n",
       " ('sort', 0.0036644582),\n",
       " ('God', 0.0036201724),\n",
       " ('round', 0.0034436777),\n",
       " ('Jonah', 0.0034345356),\n",
       " ('voyage', 0.0033190253)]"
      ]
     },
     "execution_count": 50,
     "metadata": {},
     "output_type": "execute_result"
    }
   ],
   "source": [
    "model.show_topic(1,20)"
   ]
  },
  {
   "cell_type": "code",
   "execution_count": 51,
   "metadata": {},
   "outputs": [
    {
     "data": {
      "text/plain": [
       "[(3, 0.9972055)]"
      ]
     },
     "execution_count": 51,
     "metadata": {},
     "output_type": "execute_result"
    }
   ],
   "source": [
    "sorted(model[corpus[0]],key=lambda x:x[1],reverse=True)"
   ]
  },
  {
   "cell_type": "code",
   "execution_count": 52,
   "metadata": {},
   "outputs": [
    {
     "name": "stderr",
     "output_type": "stream",
     "text": [
      "/Users/arinaruck/opt/anaconda3/envs/ada/lib/python3.9/site-packages/past/builtins/misc.py:45: DeprecationWarning: the imp module is deprecated in favour of importlib; see the module's documentation for alternative uses\n",
      "  from imp import reload\n",
      "/Users/arinaruck/opt/anaconda3/envs/ada/lib/python3.9/site-packages/past/builtins/misc.py:45: DeprecationWarning: the imp module is deprecated in favour of importlib; see the module's documentation for alternative uses\n",
      "  from imp import reload\n",
      "/Users/arinaruck/opt/anaconda3/envs/ada/lib/python3.9/site-packages/past/builtins/misc.py:45: DeprecationWarning: the imp module is deprecated in favour of importlib; see the module's documentation for alternative uses\n",
      "  from imp import reload\n",
      "/Users/arinaruck/opt/anaconda3/envs/ada/lib/python3.9/site-packages/past/builtins/misc.py:45: DeprecationWarning: the imp module is deprecated in favour of importlib; see the module's documentation for alternative uses\n",
      "  from imp import reload\n",
      "/Users/arinaruck/opt/anaconda3/envs/ada/lib/python3.9/site-packages/past/builtins/misc.py:45: DeprecationWarning: the imp module is deprecated in favour of importlib; see the module's documentation for alternative uses\n",
      "  from imp import reload\n",
      "/Users/arinaruck/opt/anaconda3/envs/ada/lib/python3.9/site-packages/past/builtins/misc.py:45: DeprecationWarning: the imp module is deprecated in favour of importlib; see the module's documentation for alternative uses\n",
      "  from imp import reload\n",
      "/Users/arinaruck/opt/anaconda3/envs/ada/lib/python3.9/site-packages/past/builtins/misc.py:45: DeprecationWarning: the imp module is deprecated in favour of importlib; see the module's documentation for alternative uses\n",
      "  from imp import reload\n",
      "/Users/arinaruck/opt/anaconda3/envs/ada/lib/python3.9/site-packages/past/builtins/misc.py:45: DeprecationWarning: the imp module is deprecated in favour of importlib; see the module's documentation for alternative uses\n",
      "  from imp import reload\n"
     ]
    },
    {
     "data": {
      "text/html": [
       "\n",
       "<link rel=\"stylesheet\" type=\"text/css\" href=\"https://cdn.jsdelivr.net/gh/bmabey/pyLDAvis@3.3.1/pyLDAvis/js/ldavis.v1.0.0.css\">\n",
       "\n",
       "\n",
       "<div id=\"ldavis_el90571405965840156806394267984\"></div>\n",
       "<script type=\"text/javascript\">\n",
       "\n",
       "var ldavis_el90571405965840156806394267984_data = {\"mdsDat\": {\"x\": [0.027290439016991838, 0.1652517507731852, -0.13966977545351025, -0.05287241433666684], \"y\": [-0.10820500924224755, 0.034527841504566704, -0.013164751463474268, 0.08684191920115526], \"topics\": [1, 2, 3, 4], \"cluster\": [1, 1, 1, 1], \"Freq\": [28.20172912672173, 27.3718512266012, 23.847930422212816, 20.57848922446425]}, \"tinfo\": {\"Term\": [\"whale\", \"Elizabeth\", \"Darcy\", \"ship\", \"Bingley\", \"Bennet\", \"Miss\", \"sea\", \"Jane\", \"Collins\", \"Mrs\", \"Lucy\", \"Ahab\", \"Queequeg\", \"Captain\", \"room\", \"sister\", \"Count\", \"sleep\", \"door\", \"old\", \"Mrs_Bennet\", \"night\", \"Bildad\", \"Lady\", \"bed\", \"window\", \"Peleg\", \"Catherine\", \"Wickham\", \"Clerval\", \"Felix\", \"Justine\", \"Henry\", \"wretch\", \"Geneva\", \"Safie\", \"creator\", \"Frankenstein\", \"inhabit\", \"victim\", \"thirst\", \"hovel\", \"Ernest\", \"forever\", \"abhor\", \"cottage\", \"unfortunate\", \"ardour\", \"hatred\", \"crime\", \"daemon\", \"cottager\", \"Victor\", \"protector\", \"Ingolstadt\", \"accent\", \"contemplate\", \"Switzerland\", \"beheld\", \"lake\", \"murderer\", \"sensation\", \"tale\", \"fiend\", \"miserable\", \"murder\", \"misery\", \"despair\", \"human\", \"weep\", \"gentle\", \"reflect\", \"endure\", \"scene\", \"mountain\", \"discover\", \"father\", \"horror\", \"creature\", \"destroy\", \"appear\", \"tear\", \"death\", \"life\", \"feeling\", \"endeavour\", \"month\", \"remain\", \"mind\", \"child\", \"pass\", \"return\", \"love\", \"heart\", \"night\", \"enter\", \"spirit\", \"fear\", \"word\", \"hope\", \"Elizabeth\", \"dear\", \"country\", \"old\", \"Bingley\", \"Darcy\", \"Jane\", \"Bennet\", \"Miss_Bingley\", \"Collins\", \"Mrs_Bennet\", \"Wickham\", \"Charlotte\", \"Lucas\", \"Netherfield\", \"Catherine\", \"Longbourn\", \"Lady_Catherine\", \"Lydia\", \"Miss_Bennet\", \"Hurst\", \"Lizzy\", \"Meryton\", \"Lady\", \"Colonel\", \"Lady Catherine\", \"Bourgh\", \"Fitzwilliam\", \"Miss_Lucas\", \"Hertfordshire\", \"Rosings\", \"Eliza\", \"Colonel_Fitzwilliam\", \"Mrs_Hurst\", \"Miss\", \"Sir_William\", \"Mrs\", \"Elizabeth\", \"dance\", \"sister\", \"lady\", \"daughter\", \"family\", \"young\", \"cousin\", \"wish\", \"attention\", \"reply\", \"hope\", \"manner\", \"believe\", \"dear\", \"room\", \"mother\", \"mean\", \"father\", \"walk\", \"Bildad\", \"Ahab\", \"Peleg\", \"Jonah\", \"Pequod\", \"ship\", \"mast\", \"Stubb\", \"Captain_Ahab\", \"whale\", \"Flask\", \"Nantucket\", \"Captain_Peleg\", \"mast_head\", \"captain\", \"Starbuck\", \"shipmate\", \"Cape\", \"whale_ship\", \"oil\", \"pilot\", \"sperm\", \"lance\", \"sperm_whale\", \"Captain\", \"pulpit\", \"whaling\", \"cabin\", \"fishery\", \"Bedford\", \"deck\", \"crew\", \"sailor\", \"whaleman\", \"leg\", \"sea\", \"thou\", \"mate\", \"sail\", \"Queequeg\", \"Whale\", \"voyage\", \"board\", \"old\", \"fish\", \"head\", \"boat\", \"God\", \"stand\", \"water\", \"round\", \"sort\", \"world\", \"chapter\", \"land\", \"small\", \"Count\", \"Mina\", \"Helsing\", \"Van_Helsing\", \"Lucy\", \"Van Helsing\", \"Westenra\", \"Jonathan\", \"Seward\", \"Dracula\", \"driver\", \"Hawkins\", \"diary\", \"Van\", \"Holmwood\", \"Arthur\", \"Diary\", \"Renfield\", \"Pass\", \"wolf\", \"lunch\", \"Bistritz\", \"lunatic\", \"Arthur Holmwood\", \"Amsterdam\", \"Transylvania\", \"key\", \"Murray\", \"Slovaks\", \"Harker\", \"September\", \"asleep\", \"later\", \"patient\", \"landlord\", \"window\", \"bed\", \"door\", \"sleep\", \"lock\", \"wake\", \"moonlight\", \"room\", \"night\", \"try\", \"ask\", \"castle\", \"open\", \"write\", \"face\", \"run\", \"dear\", \"fear\", \"sit\", \"close\", \"light\", \"old\", \"sort\", \"want\", \"fall\", \"till\", \"head\", \"round\", \"letter\", \"lie\", \"morning\", \"house\", \"love\"], \"Freq\": [339.0, 385.0, 229.0, 209.0, 205.0, 178.0, 193.0, 218.0, 142.0, 145.0, 192.0, 104.0, 105.0, 160.0, 115.0, 255.0, 177.0, 89.0, 161.0, 166.0, 283.0, 85.0, 271.0, 74.0, 89.0, 110.0, 103.0, 68.0, 78.0, 76.0, 51.312246489108375, 46.465936700954146, 52.131042285509864, 27.236612636868898, 20.647982623166033, 34.715806213665644, 23.369035286222747, 18.66116858726326, 14.810522381602969, 14.787050504664736, 16.604209347721326, 13.793915716736725, 13.740074267036176, 12.819720446284911, 30.174778659231063, 11.887050771010317, 53.7488410128605, 11.829029118125215, 12.72685455230624, 10.892061453607386, 23.559738126615777, 10.830235791786368, 23.447918292378212, 20.742112914427672, 13.526934384363312, 15.282175019409921, 9.883511114775091, 11.675644026058018, 8.969249717814082, 24.211941167696743, 31.350247467893087, 26.8828169697561, 42.21338883839905, 29.848268493180875, 28.37565670783365, 53.7702299995978, 39.181453094342636, 48.0663559751568, 39.01479543649998, 54.61190994454269, 26.116212416335088, 32.01340701622834, 31.241410745876358, 32.651389193571625, 55.90255669201319, 50.43208655993212, 48.653252656192926, 125.38281716537612, 45.74020150609771, 61.26338002244948, 37.114605835364436, 79.9895316590455, 46.48740260919915, 64.759515431355, 106.69075617947784, 82.59828613223858, 46.52987289664292, 45.169698721392045, 64.47099727872165, 82.04655700300812, 51.411480041647074, 78.87181888368727, 69.8611228960008, 73.1262918628219, 68.32893299913592, 81.5443076336114, 58.58195876244266, 50.87650537831445, 55.019512206297854, 56.44784364497304, 54.73876312594311, 58.81716550263951, 54.25371532870779, 49.328421574919226, 50.00097035478919, 203.5586718549248, 226.9797380360509, 141.60365571193924, 175.85522407111793, 67.13194496872195, 143.57070678022083, 83.88724359994217, 75.36273970907233, 70.6968027457958, 57.631414004349736, 48.25170764468879, 76.94026277853963, 39.78031357272772, 70.22050817848664, 35.97445751047469, 34.06318061768217, 29.430734756603638, 34.93323302485644, 29.401107204753238, 86.22596074586576, 29.302675327237818, 48.497910990752956, 30.175942693578158, 28.330479141217786, 22.829392375356463, 23.723519647287354, 24.5827139848253, 19.049432132598156, 22.663404360241223, 18.126598868229493, 182.2894165724714, 37.74758681466043, 171.1438390638973, 323.80934336238477, 59.171650080063756, 154.41486203595107, 95.16567497988952, 69.39725465804102, 77.63107304648952, 117.67670707370429, 53.30488620621158, 101.32930696994393, 59.59175052075909, 68.52568809375587, 89.05605803672388, 81.45382280926611, 70.0889188266112, 84.70332062227834, 88.90896315609832, 64.482212019816, 70.3422286789307, 69.64950530030144, 64.99368449300752, 73.21927079977085, 104.15664329335651, 67.48442520057296, 59.9695300745323, 44.67980658752046, 204.70513456238598, 52.09019666590363, 42.7684041434672, 39.00517355584979, 331.3784567266944, 37.058174511886435, 50.84439697695322, 27.653468255420034, 23.905031640743783, 49.653996427675594, 35.84273925929149, 31.182965047133944, 20.122970142803894, 21.02198552759361, 29.156526149294024, 17.278360308074234, 17.23918819313205, 19.887551240611817, 15.34521917981937, 109.07060836979898, 17.09214285065282, 16.19369052309101, 46.720667474645566, 14.35387765488481, 15.24279053273339, 64.36445395632862, 30.36089742899548, 43.544666954480604, 30.847541489712487, 34.189131652321265, 185.851100272316, 64.04904027382236, 57.63920898752154, 71.52520438029431, 123.98715297465603, 52.59188675406094, 57.95263469180075, 37.837583938743876, 151.18464651035057, 44.365783270154594, 88.29993540672596, 48.845608864207925, 63.21088588708587, 68.91787946412936, 56.42048076485726, 60.129157814992546, 63.98414843648054, 65.23784718820222, 57.07241159607961, 45.43412033013338, 45.6048587955313, 88.03012048450896, 35.45231090938959, 26.08388041649705, 26.070004331702403, 101.17823615765849, 19.386818130624587, 20.280803880830675, 35.021708512653824, 18.363452053453184, 15.417219497078426, 28.94951205661804, 12.661200332116955, 13.5302079018758, 26.086490404384097, 13.44311709638677, 40.29575734224722, 10.682344526066496, 10.642800929346375, 8.844186010588363, 21.171781479675012, 8.809664184917043, 8.804281961912066, 7.891663213504295, 7.8445948533195, 6.95280251027252, 7.807007870502606, 31.218131769890466, 8.667052377020314, 6.932003292285552, 6.925964187248519, 15.582560826503585, 26.22629840472878, 17.856291766054813, 21.955193549505115, 23.550241691242253, 81.2431977890657, 85.34646358452069, 114.49286484834376, 110.69026685103805, 30.02953135876508, 30.567143258869788, 18.380150363053108, 137.41566580234465, 135.62437218025366, 71.89287408713956, 72.51106234716039, 27.002326033023618, 69.7513228970454, 65.20393117890765, 58.07041331781886, 54.43977282891004, 77.9311582408849, 62.24352435363825, 61.25771368684962, 48.409922023122306, 55.8290862198169, 75.63506349383377, 55.32448505360617, 50.48886507636144, 45.73777152134576, 48.02770262764751, 56.62753203035929, 48.11302537682596, 49.58504451292775, 42.30031574070551, 43.033382056287, 42.55999550327378, 42.583523982787796], \"Total\": [339.0, 385.0, 229.0, 209.0, 205.0, 178.0, 193.0, 218.0, 142.0, 145.0, 192.0, 104.0, 105.0, 160.0, 115.0, 255.0, 177.0, 89.0, 161.0, 166.0, 283.0, 85.0, 271.0, 74.0, 89.0, 110.0, 103.0, 68.0, 78.0, 76.0, 52.86272794165477, 47.96741966090426, 53.83730335822493, 28.378292680017484, 21.529454282259703, 36.20647839457425, 24.462565082300117, 19.56894696751938, 15.651410140048855, 15.65079729210006, 17.605517431359168, 14.670200857452551, 14.668794595926485, 13.690537747194398, 32.264486705200646, 12.712441541846232, 57.689450240119264, 12.710045708606385, 13.687335435786279, 11.73192940616954, 25.416293952452932, 11.729540805059797, 25.40956350959522, 22.478666059468896, 14.661976869481824, 16.61355575239911, 10.750919866238435, 12.704737252755752, 9.773200421329507, 26.382435929564988, 34.203551654345645, 29.318754990183148, 46.910866417860255, 33.220491353043734, 32.22684106155857, 64.34966115540878, 45.87149029368655, 57.50449618372629, 45.85967177117801, 69.13200921112599, 30.261638657291947, 38.043012477586785, 37.033776656227765, 38.99650362409136, 72.00095910047538, 65.3035645849272, 65.1165351904286, 211.74547110362556, 60.415372305196094, 90.23246867337565, 46.76858279607981, 133.54423855648474, 64.19052132711302, 104.73414457835025, 218.33471775680223, 161.16676063224992, 67.84581220776865, 65.04273065175845, 114.196332208928, 171.9497001239235, 84.32428077528591, 180.32853347625237, 156.034077659552, 184.00584301525896, 162.1458617411248, 271.12492352023247, 122.59418218235365, 100.46877219799957, 149.6711415170759, 170.22423490641518, 171.66485493069277, 385.4089755519707, 219.89460040128483, 107.05288353202894, 283.76268125995523, 205.45119089785442, 229.12480736024085, 142.9623640193125, 178.0021930016452, 68.17404906575138, 145.81690289811908, 85.21781781270373, 76.70260297693424, 71.96332456970542, 58.707424780093966, 49.24069328723349, 78.59659166697492, 40.7194862099333, 71.97187261801244, 36.9335629325942, 35.040942002450485, 30.306074630759, 35.98801178920317, 30.30665663522912, 89.02646179716267, 30.308468080039166, 50.19818085469867, 31.255126484527498, 29.36218921232329, 23.67834101202505, 24.626436766018145, 25.57404874591676, 19.892133929591488, 23.68224356293087, 18.945069002691643, 193.2929424967538, 39.778242254004894, 192.51703388473243, 385.4089755519707, 64.46331010622048, 177.5571690298204, 125.52297287478471, 87.56537016917363, 113.62250954296688, 222.41661077868355, 71.58313159244406, 187.63642507336965, 85.95225179421638, 109.91352148165231, 171.66485493069277, 154.2358445749149, 134.2751418550835, 219.89460040128483, 255.837414718521, 114.78221586398708, 167.29202037614846, 211.74547110362556, 134.03916782750068, 74.16166937220366, 105.54257526523894, 68.45750438346575, 60.849732148163454, 45.64223654414329, 209.2190688102733, 53.2507731448081, 43.74160773029225, 39.93843495706707, 339.58900765151895, 38.03813336094001, 52.30954028720075, 28.528446634902814, 24.725367215515558, 51.36507431798682, 37.096116524184914, 32.333691664221185, 20.922609407021692, 21.874565834603462, 30.44317041633585, 18.070162868795823, 18.07165229807429, 20.927376231110642, 16.170251940936755, 115.04799694830122, 18.068852260577405, 17.121153187323245, 49.495720825065845, 15.220868637571265, 16.172359773170566, 68.54976754702757, 32.36280136152551, 46.64733107598952, 33.30232876912234, 37.10793295890546, 218.45050806229744, 72.48139240340441, 64.8260292851066, 84.94234272357969, 160.1423929239774, 63.03505335796597, 72.65372141998226, 42.87991952560753, 283.76268125995523, 57.179516117497144, 184.7180403422194, 70.9228049494928, 117.8454795695205, 141.51037232636452, 96.01196042175339, 123.43390662808523, 147.91542715839273, 157.2517185936047, 125.20781734139263, 77.74397945896011, 93.6386378035531, 89.48226241036714, 36.562201737034584, 26.939989235633906, 26.939841579253233, 104.85321962299221, 20.203699398738475, 21.1653220852493, 36.55479776092429, 19.24040951158684, 16.352145845720862, 30.77552222181084, 13.467162805654706, 14.427972886880735, 27.888286002191567, 14.42770837110974, 43.32831724624861, 11.541381423443156, 11.540906393001775, 9.618324994401227, 23.075772645340383, 9.617858820350758, 9.617554018776843, 8.656277883150533, 8.655385526121957, 7.694047200679347, 8.6547913294985, 34.610606059494984, 9.616711691536235, 7.693587239810348, 7.693544348383236, 17.315496832466323, 29.801924127953622, 20.18423258625566, 24.98996675620367, 26.906399089980923, 103.87117166331971, 110.66911356791164, 166.38375068633832, 161.76401473288087, 38.42843270542721, 39.34827932930661, 22.12262278908182, 255.837414718521, 271.12492352023247, 127.69554042472669, 139.0371066007404, 36.627056379595665, 142.27944748786763, 129.2725146094965, 125.77980328991573, 116.87396816970782, 219.89460040128483, 149.6711415170759, 150.5038596415939, 99.93867048091803, 140.73014544209073, 283.76268125995523, 147.91542715839273, 125.27242566796556, 104.12987738128078, 117.39132784804667, 184.7180403422194, 123.43390662808523, 139.21714222627236, 113.54543588144472, 143.93670374817518, 163.06617140952545, 184.00584301525896], \"Category\": [\"Default\", \"Default\", \"Default\", \"Default\", \"Default\", \"Default\", \"Default\", \"Default\", \"Default\", \"Default\", \"Default\", \"Default\", \"Default\", \"Default\", \"Default\", \"Default\", \"Default\", \"Default\", \"Default\", \"Default\", \"Default\", \"Default\", \"Default\", \"Default\", \"Default\", \"Default\", \"Default\", \"Default\", \"Default\", \"Default\", \"Topic1\", \"Topic1\", \"Topic1\", \"Topic1\", \"Topic1\", \"Topic1\", \"Topic1\", \"Topic1\", \"Topic1\", \"Topic1\", \"Topic1\", \"Topic1\", \"Topic1\", \"Topic1\", \"Topic1\", \"Topic1\", \"Topic1\", \"Topic1\", \"Topic1\", \"Topic1\", \"Topic1\", \"Topic1\", \"Topic1\", \"Topic1\", \"Topic1\", \"Topic1\", \"Topic1\", \"Topic1\", \"Topic1\", \"Topic1\", \"Topic1\", \"Topic1\", \"Topic1\", \"Topic1\", \"Topic1\", \"Topic1\", \"Topic1\", \"Topic1\", \"Topic1\", \"Topic1\", \"Topic1\", \"Topic1\", \"Topic1\", \"Topic1\", \"Topic1\", \"Topic1\", \"Topic1\", \"Topic1\", \"Topic1\", \"Topic1\", \"Topic1\", \"Topic1\", \"Topic1\", \"Topic1\", \"Topic1\", \"Topic1\", \"Topic1\", \"Topic1\", \"Topic1\", \"Topic1\", \"Topic1\", \"Topic1\", \"Topic1\", \"Topic1\", \"Topic1\", \"Topic1\", \"Topic1\", \"Topic1\", \"Topic1\", \"Topic1\", \"Topic1\", \"Topic1\", \"Topic1\", \"Topic1\", \"Topic1\", \"Topic2\", \"Topic2\", \"Topic2\", \"Topic2\", \"Topic2\", \"Topic2\", \"Topic2\", \"Topic2\", \"Topic2\", \"Topic2\", \"Topic2\", \"Topic2\", \"Topic2\", \"Topic2\", \"Topic2\", \"Topic2\", \"Topic2\", \"Topic2\", \"Topic2\", \"Topic2\", \"Topic2\", \"Topic2\", \"Topic2\", \"Topic2\", \"Topic2\", \"Topic2\", \"Topic2\", \"Topic2\", \"Topic2\", \"Topic2\", \"Topic2\", \"Topic2\", \"Topic2\", \"Topic2\", \"Topic2\", \"Topic2\", \"Topic2\", \"Topic2\", \"Topic2\", \"Topic2\", \"Topic2\", \"Topic2\", \"Topic2\", \"Topic2\", \"Topic2\", \"Topic2\", \"Topic2\", \"Topic2\", \"Topic2\", \"Topic2\", \"Topic2\", \"Topic2\", \"Topic2\", \"Topic3\", \"Topic3\", \"Topic3\", \"Topic3\", \"Topic3\", \"Topic3\", \"Topic3\", \"Topic3\", \"Topic3\", \"Topic3\", \"Topic3\", \"Topic3\", \"Topic3\", \"Topic3\", \"Topic3\", \"Topic3\", \"Topic3\", \"Topic3\", \"Topic3\", \"Topic3\", \"Topic3\", \"Topic3\", \"Topic3\", \"Topic3\", \"Topic3\", \"Topic3\", \"Topic3\", \"Topic3\", \"Topic3\", \"Topic3\", \"Topic3\", \"Topic3\", \"Topic3\", \"Topic3\", \"Topic3\", \"Topic3\", \"Topic3\", \"Topic3\", \"Topic3\", \"Topic3\", \"Topic3\", \"Topic3\", \"Topic3\", \"Topic3\", \"Topic3\", \"Topic3\", \"Topic3\", \"Topic3\", \"Topic3\", \"Topic3\", \"Topic3\", \"Topic3\", \"Topic3\", \"Topic3\", \"Topic3\", \"Topic3\", \"Topic4\", \"Topic4\", \"Topic4\", \"Topic4\", \"Topic4\", \"Topic4\", \"Topic4\", \"Topic4\", \"Topic4\", \"Topic4\", \"Topic4\", \"Topic4\", \"Topic4\", \"Topic4\", \"Topic4\", \"Topic4\", \"Topic4\", \"Topic4\", \"Topic4\", \"Topic4\", \"Topic4\", \"Topic4\", \"Topic4\", \"Topic4\", \"Topic4\", \"Topic4\", \"Topic4\", \"Topic4\", \"Topic4\", \"Topic4\", \"Topic4\", \"Topic4\", \"Topic4\", \"Topic4\", \"Topic4\", \"Topic4\", \"Topic4\", \"Topic4\", \"Topic4\", \"Topic4\", \"Topic4\", \"Topic4\", \"Topic4\", \"Topic4\", \"Topic4\", \"Topic4\", \"Topic4\", \"Topic4\", \"Topic4\", \"Topic4\", \"Topic4\", \"Topic4\", \"Topic4\", \"Topic4\", \"Topic4\", \"Topic4\", \"Topic4\", \"Topic4\", \"Topic4\", \"Topic4\", \"Topic4\", \"Topic4\", \"Topic4\", \"Topic4\", \"Topic4\", \"Topic4\", \"Topic4\", \"Topic4\"], \"logprob\": [30.0, 29.0, 28.0, 27.0, 26.0, 25.0, 24.0, 23.0, 22.0, 21.0, 20.0, 19.0, 18.0, 17.0, 16.0, 15.0, 14.0, 13.0, 12.0, 11.0, 10.0, 9.0, 8.0, 7.0, 6.0, 5.0, 4.0, 3.0, 2.0, 1.0, -5.9975, -6.0967, -5.9816, -6.6308, -6.9078, -6.3882, -6.784, -7.009, -7.2401, -7.2416, -7.1257, -7.3112, -7.3151, -7.3844, -6.5284, -7.4599, -5.9511, -7.4648, -7.3917, -7.5474, -6.7759, -7.5531, -6.7806, -6.9032, -7.3307, -7.2087, -7.6445, -7.4779, -7.7416, -6.7486, -6.4902, -6.6439, -6.1927, -6.5393, -6.5899, -5.9507, -6.2672, -6.0628, -6.2715, -5.9351, -6.6728, -6.4692, -6.4937, -6.4495, -5.9118, -6.0148, -6.0507, -5.104, -6.1124, -5.8202, -6.3214, -5.5535, -6.0962, -5.7647, -5.2655, -5.5214, -6.0953, -6.125, -5.7692, -5.5281, -5.9955, -5.5676, -5.6889, -5.6432, -5.7111, -5.5342, -5.865, -6.006, -5.9277, -5.9021, -5.9328, -5.861, -5.9417, -6.0369, -6.0234, -4.5896, -4.4807, -4.9525, -4.7359, -5.6989, -4.9387, -5.4761, -5.5832, -5.6471, -5.8515, -6.0291, -5.5625, -6.2222, -5.6539, -6.3227, -6.3773, -6.5235, -6.3521, -6.5245, -5.4486, -6.5278, -6.024, -6.4985, -6.5616, -6.7775, -6.7391, -6.7035, -6.9585, -6.7848, -7.0081, -4.6999, -6.2746, -4.763, -4.1254, -5.8251, -4.8659, -5.3499, -5.6657, -5.5536, -5.1376, -5.9295, -5.2872, -5.818, -5.6783, -5.4163, -5.5055, -5.6558, -5.4664, -5.4179, -5.7391, -5.6522, -5.6621, -5.7312, -5.4743, -5.1218, -5.5558, -5.6739, -5.9682, -4.4461, -5.8147, -6.0119, -6.104, -3.9644, -6.1552, -5.8389, -6.448, -6.5936, -5.8626, -6.1886, -6.3278, -6.7658, -6.7221, -6.395, -6.9183, -6.9205, -6.7776, -7.0369, -5.0757, -6.9291, -6.9831, -5.9235, -7.1037, -7.0436, -5.6031, -6.3546, -5.9939, -6.3387, -6.2358, -4.5428, -5.6081, -5.7135, -5.4977, -4.9475, -5.8051, -5.7081, -6.1344, -4.7492, -5.9752, -5.287, -5.879, -5.6212, -5.5348, -5.7349, -5.6712, -5.6091, -5.5897, -5.7234, -5.9514, -5.9477, -5.1426, -6.0521, -6.3589, -6.3595, -5.0034, -6.6557, -6.6106, -6.0643, -6.7099, -6.8848, -6.2547, -7.0817, -7.0153, -6.3588, -7.0218, -5.924, -7.2517, -7.2554, -7.4405, -6.5676, -7.4444, -7.445, -7.5545, -7.5604, -7.6811, -7.5652, -6.1793, -7.4607, -7.6841, -7.685, -6.8741, -6.3535, -6.7379, -6.5313, -6.4611, -5.2228, -5.1735, -4.8797, -4.9135, -6.2181, -6.2003, -6.709, -4.6972, -4.7104, -5.3451, -5.3365, -6.3243, -5.3753, -5.4427, -5.5586, -5.6232, -5.2644, -5.4892, -5.5052, -5.7406, -5.598, -5.2943, -5.607, -5.6985, -5.7973, -5.7485, -5.5838, -5.7467, -5.7166, -5.8755, -5.8583, -5.8693, -5.8688], \"loglift\": [30.0, 29.0, 28.0, 27.0, 26.0, 25.0, 24.0, 23.0, 22.0, 21.0, 20.0, 19.0, 18.0, 17.0, 16.0, 15.0, 14.0, 13.0, 12.0, 11.0, 10.0, 9.0, 8.0, 7.0, 6.0, 5.0, 4.0, 3.0, 2.0, 1.0, 1.236, 1.234, 1.2336, 1.2247, 1.224, 1.2237, 1.2201, 1.2183, 1.2106, 1.209, 1.2072, 1.2042, 1.2004, 1.2001, 1.1988, 1.1987, 1.195, 1.194, 1.193, 1.1915, 1.1899, 1.186, 1.1854, 1.1854, 1.1852, 1.1823, 1.1817, 1.1813, 1.1799, 1.1799, 1.1787, 1.179, 1.1603, 1.1587, 1.1385, 1.0862, 1.1081, 1.0865, 1.1041, 1.03, 1.1185, 1.0932, 1.0957, 1.0882, 1.0127, 1.0074, 0.9743, 0.7418, 0.9875, 0.8786, 1.0346, 0.7532, 0.9431, 0.785, 0.5497, 0.5973, 0.8886, 0.9012, 0.6941, 0.5259, 0.771, 0.4388, 0.4622, 0.343, 0.4016, 0.0644, 0.5273, 0.5853, 0.265, 0.162, 0.1228, -0.6141, -0.1337, 0.491, -0.4703, 1.2864, 1.2862, 1.2861, 1.2835, 1.2803, 1.2801, 1.2799, 1.278, 1.2779, 1.2772, 1.2754, 1.2744, 1.2723, 1.271, 1.2693, 1.2674, 1.2663, 1.2659, 1.2653, 1.2637, 1.2619, 1.2612, 1.2605, 1.2599, 1.2591, 1.2583, 1.2561, 1.2524, 1.2517, 1.2515, 1.237, 1.2433, 1.178, 1.1215, 1.21, 1.156, 1.0188, 1.0631, 0.9147, 0.659, 1.0008, 0.6795, 0.9294, 0.8232, 0.6394, 0.6572, 0.6455, 0.3417, 0.2387, 0.719, 0.4293, 0.1837, 0.5718, 1.4207, 1.4203, 1.4192, 1.4189, 1.4122, 1.4117, 1.4114, 1.411, 1.4098, 1.409, 1.4074, 1.4051, 1.4023, 1.3997, 1.3996, 1.3991, 1.3972, 1.3945, 1.3937, 1.3903, 1.3887, 1.3863, 1.3825, 1.3811, 1.3801, 1.3779, 1.3778, 1.3758, 1.3748, 1.3743, 1.3705, 1.3696, 1.3646, 1.3569, 1.3515, 1.2719, 1.3098, 1.316, 1.2615, 1.1776, 1.2523, 1.2074, 1.3084, 0.8038, 1.1797, 0.6954, 1.0605, 0.8106, 0.714, 0.9018, 0.7143, 0.5955, 0.5537, 0.6478, 0.8963, 0.714, 1.5646, 1.5501, 1.5486, 1.5481, 1.5452, 1.5397, 1.5382, 1.5381, 1.5343, 1.522, 1.5198, 1.5192, 1.5167, 1.5141, 1.5102, 1.5084, 1.5036, 1.4999, 1.497, 1.4948, 1.4932, 1.4926, 1.4884, 1.4826, 1.4796, 1.4778, 1.4778, 1.477, 1.4767, 1.4758, 1.4755, 1.4531, 1.4584, 1.4515, 1.4477, 1.3352, 1.3211, 1.2071, 1.2015, 1.3343, 1.3284, 1.3956, 0.9594, 0.8882, 1.0065, 0.9299, 1.2761, 0.8681, 0.8965, 0.808, 0.8169, 0.5436, 0.7035, 0.682, 0.8561, 0.6564, 0.2587, 0.5975, 0.6722, 0.7582, 0.6872, 0.3986, 0.6388, 0.5486, 0.5935, 0.3735, 0.2377, 0.1174]}, \"token.table\": {\"Topic\": [1, 3, 4, 1, 4, 4, 3, 2, 4, 3, 1, 2, 4, 4, 2, 4, 3, 1, 2, 3, 3, 3, 2, 4, 2, 4, 1, 2, 2, 4, 2, 2, 2, 4, 1, 2, 4, 4, 4, 2, 1, 2, 3, 4, 1, 1, 3, 2, 3, 1, 1, 2, 1, 2, 3, 4, 4, 4, 4, 1, 2, 4, 2, 1, 2, 2, 4, 3, 3, 4, 1, 2, 2, 4, 2, 4, 2, 4, 2, 4, 2, 2, 2, 3, 4, 2, 2, 4, 1, 2, 4, 2, 2, 2, 1, 2, 3, 4, 2, 4, 2, 4, 1, 3, 2, 4, 3, 3, 3, 4, 4, 2, 1, 1, 2, 4, 4, 2, 3, 4, 4, 1, 3, 3, 1, 4, 3, 4, 4, 4, 1, 2, 4, 1, 3, 1, 2, 1, 1, 1, 2, 3, 4, 1, 1, 2, 3, 4, 1, 3, 4, 1, 2, 3, 4, 1, 2, 3, 4, 1, 2, 1, 2, 3, 4, 1, 3, 4, 1, 3, 4, 1, 3, 1, 3, 1, 3, 4, 1, 2, 3, 4, 1, 2, 3, 4, 1, 2, 3, 4, 1, 1, 2, 3, 1, 2, 1, 2, 3, 4, 1, 2, 4, 1, 1, 2, 3, 4, 1, 3, 1, 3, 1, 1, 2, 3, 4, 1, 2, 3, 4, 1, 2, 3, 4, 1, 2, 3, 4, 1, 3, 1, 2, 3, 4, 1, 2, 3, 4, 4, 1, 2, 3, 4, 1, 2, 3, 4, 3, 4, 1, 2, 1, 2, 3, 4, 1, 2, 3, 4, 1, 2, 3, 4, 1, 2, 3, 4, 1, 2, 3, 4, 1, 2, 3, 4, 1, 2, 3, 4, 1, 2, 3, 4, 1, 2, 3, 4, 1, 2, 3, 4, 3, 1, 2, 1, 2, 3, 4, 1, 1, 2, 3, 4, 1, 2, 3, 4, 1, 2, 3, 4, 1, 2, 3, 4, 1, 2, 3, 4, 1, 1, 2, 3, 4, 1, 1, 2, 3, 4, 1, 2, 3, 4, 1, 2, 3, 4, 3, 1, 3, 4, 3, 4, 3, 4, 3, 4, 1, 2, 3, 4, 1, 2, 3, 4, 1, 2, 3, 4, 1, 2, 3, 4, 1, 3, 4, 1, 2, 3, 4, 4, 4, 1, 2, 3, 4, 3, 3, 1, 3, 4, 1, 2, 3, 4, 1, 2, 3, 4, 1, 2, 3, 4, 1, 2, 3, 4, 1, 2, 3, 4, 1, 3, 4, 1, 2, 3, 4, 1, 2, 3, 4, 1, 2, 3, 4, 1, 2, 3, 4, 1, 3, 1, 2, 3, 4, 1, 3, 1, 2, 3, 4, 1, 2, 3, 4, 1, 2, 3, 4, 1, 2, 3, 4, 3, 1, 3, 3, 1, 2, 1, 2, 3, 4, 1, 2, 3, 4, 1, 2, 3, 4, 1, 2, 3, 4, 1, 2, 3, 4, 1, 2, 3, 4, 1, 3, 4, 1, 3, 4, 1, 2, 3, 4, 1, 3, 4, 1, 2, 4, 1, 3, 4, 3, 4, 1, 2, 3, 4, 1, 2, 3, 4, 1, 2, 3, 4, 1, 2, 3, 4, 1, 2, 3, 4, 3, 3, 1, 2, 3, 4, 1, 2, 3, 4, 1, 2, 3, 4, 1, 2, 3, 4, 1, 1, 3, 1, 2, 3, 4, 1, 2, 3, 4, 1, 1, 1, 3, 4, 2, 3, 4, 1, 2, 3, 4, 1, 2, 3, 4, 1, 2, 3, 4, 1, 2, 3, 4, 1, 3, 4, 3, 3, 4, 3, 1, 2, 3, 4, 1, 2, 3, 4, 3, 4, 1, 2, 3, 4, 1, 2, 3, 4, 1, 1, 2, 3, 4, 1, 2, 3, 4], \"Freq\": [0.009474849343849163, 0.9853843317603129, 0.909794262684265, 0.0461591893503125, 0.9231837870062499, 0.9242800307226058, 0.927508428602023, 0.9887518632895343, 0.005617908314145082, 0.9843359867430511, 0.004867336108541599, 0.9929365661424863, 0.004867336108541599, 0.9357888692310788, 0.9598425402261983, 0.031994751340873276, 0.9559037121482533, 0.008692024429155138, 0.03476809771662055, 0.9474306627779101, 0.9765029611682114, 0.9814765016243019, 0.9796862480533519, 0.012723198026666908, 0.9866136733472851, 0.013895967230243451, 0.964762924385766, 0.018916920085995412, 0.9875398334348897, 0.006857915509964512, 0.956828300375204, 0.9711917681651258, 0.011175399158036298, 0.9834351259071942, 0.0043644335657978435, 0.9907264194361105, 0.0043644335657978435, 0.9530921469813408, 0.9173108007671849, 0.9551514215242463, 0.1530841359247071, 0.8406654244000865, 0.0025946463716052053, 0.005189292743210411, 0.9495609478644541, 0.9589842506682134, 0.02084748371017855, 0.9536073689031477, 0.972708088720094, 0.958380099031331, 0.9666778309277644, 0.027619366597936127, 0.1527423883016342, 0.02545706471693903, 0.5345983590557196, 0.28002771188632936, 0.9098537271018681, 0.9653109706627628, 0.965108032248559, 0.951431444605968, 0.9745624276881761, 0.9010439957347208, 0.9569038667438176, 0.9028771578795766, 0.0601918105253051, 0.9932684100048702, 0.006994847957780776, 0.9860355646908283, 0.027356190192603463, 0.9574666567411212, 0.9658730426002246, 0.018574481588465856, 0.9660049188065214, 0.022465230669919102, 0.9562099498971601, 0.019921040622857503, 0.9726021771244154, 0.013894316816063077, 0.9725460857634934, 0.0277870310218141, 0.9823306658088975, 0.9879499946941322, 0.00953714157367391, 0.01907428314734782, 0.9632512989410649, 0.9747231824262933, 0.9568854905060614, 0.9572727663320068, 0.005173494629876588, 0.9415760226375391, 0.051734946298765884, 0.9702935496888843, 0.9827786513806881, 0.9713518353468871, 0.005194345559046684, 0.8882330905969831, 0.005194345559046684, 0.1038869111809337, 0.9857093522931987, 0.011734635146347603, 0.9501153042748289, 0.9358708349259333, 0.019116971674948614, 0.9749655554223793, 0.9748034967745841, 0.9357138592466827, 0.9787093555835528, 0.9859288984771344, 0.7743108975451936, 0.21855549527485302, 0.9531313768102502, 0.977553466343165, 0.9402121127780523, 0.057751735897350255, 0.057751735897350255, 0.9240277743576041, 0.9355310233475099, 0.9552961077905382, 0.025139371257645742, 0.025139371257645742, 0.90984865470539, 0.026956999645718908, 0.9704519872458807, 0.9830457139375179, 0.920885647689979, 0.9243434873736647, 0.03585734884967173, 0.932291070091465, 0.9404218319139298, 0.9651133219737632, 0.9342191366891176, 0.044486625556624644, 0.9449419158113618, 0.1586418899847931, 0.8408020169194034, 0.013037367197312934, 0.9778025397984701, 0.9439571431262005, 0.9301529659246572, 0.5990524253591268, 0.2695735914116071, 0.04492893190193451, 0.08236970848687994, 0.9497831086984831, 0.12226951794111537, 0.31646228172994567, 0.043153947508628956, 0.525039694688319, 0.0335548804065983, 0.0671097608131966, 0.8724268905715556, 0.23268733026196034, 0.698061990785881, 0.011634366513098017, 0.058171832565490085, 0.09939539267430651, 0.02710783436571996, 0.09939539267430651, 0.7680553070287321, 0.9096961351133177, 0.07580801125944314, 0.32023797857095376, 0.5213176395341107, 0.029789579401949186, 0.12660571245828403, 0.06996281786882612, 0.8861956930051308, 0.04664187857921741, 0.25379706869769997, 0.6908920203437389, 0.056399348599488884, 0.040407533553630984, 0.9495770385103282, 0.019468481517407713, 0.9734240758703857, 0.16381332798948325, 0.08190666399474163, 0.7371599759526747, 0.18369460061178144, 0.27154854003480733, 0.4552431406465888, 0.07986721765729628, 0.6048080046589295, 0.1660257267691179, 0.07115388290105053, 0.15416674628560947, 0.19011659759500002, 0.15009205073289475, 0.1801104608794737, 0.4802945623452632, 0.9445295688737766, 0.9360463616005568, 0.01733419188149179, 0.05200257564447537, 0.9051709995456901, 0.03935526084981262, 0.4577177034688635, 0.2802353286544062, 0.11209413146176248, 0.14945884194901665, 0.23748611749467566, 0.7403978957186947, 0.013969771617333863, 0.970926030487807, 0.6760315981247104, 0.12190733736675104, 0.14407230779706942, 0.04432994086063674, 0.03089967363544891, 0.9269902090634673, 0.944276142103863, 0.03934483925432763, 0.9378031231414368, 0.031025400289008853, 0.9152493085257611, 0.015512700144504427, 0.031025400289008853, 0.13704047589608043, 0.7879827364024625, 0.011420039658006703, 0.057100198290033516, 0.24557219641344355, 0.3865488276878278, 0.013642899800746863, 0.35471539481941844, 0.6206189992927698, 0.06683589223152905, 0.18141170748557886, 0.1336717844630581, 0.04376382455187603, 0.9336282571066886, 0.8504203910266713, 0.04361130210393186, 0.0654169531558978, 0.04361130210393186, 0.7911293819042423, 0.042763750373202285, 0.08552750074640457, 0.08552750074640457, 0.9703372822893306, 0.7524970402172511, 0.1228566596273063, 0.10749957717389301, 0.015357082453413287, 0.1262142481665086, 0.1262142481665086, 0.060102022936432666, 0.6851630614753325, 0.03249335601172326, 0.9423073243399746, 0.6927472524917063, 0.2947860648900878, 0.8462297112096269, 0.07692997374632972, 0.07692997374632972, 0.025643324582109904, 0.48126264191101664, 0.21208184219807513, 0.15498288468320875, 0.15498288468320875, 0.15900804005791827, 0.08745442203185505, 0.29416487410714875, 0.461123316167963, 0.3073085343491682, 0.09603391698411508, 0.1536542671745841, 0.44175601812692933, 0.23762897077880352, 0.6864836933609879, 0.06160751094265276, 0.017602145983615074, 0.5903313981096983, 0.33058558294143103, 0.03305855829414311, 0.04722651184877587, 0.36747230924089047, 0.10690103541553178, 0.11358235012900252, 0.4142415122351856, 0.5149945291100644, 0.3660804484035397, 0.018614260088315578, 0.1054808071671216, 0.8688409747177949, 0.031030034811349815, 0.06206006962269963, 0.031030034811349815, 0.0699551215470322, 0.0699551215470322, 0.7695063370173543, 0.08744390193379026, 0.9197898183972453, 0.9298148851431863, 0.030993829504772877, 0.8411531557563415, 0.052572072234771346, 0.026286036117385673, 0.052572072234771346, 0.9376121880016909, 0.11910044064587041, 0.09744581507389398, 0.47640176258348166, 0.30857841440066425, 0.41937548864839924, 0.15418216494426443, 0.16651673813980558, 0.25902603710636424, 0.3203917308653857, 0.5184520735821696, 0.040777129382867275, 0.12233138814860182, 0.761395622419159, 0.016552078748242587, 0.06620831499297035, 0.16552078748242588, 0.2452991914524303, 0.34341886803340244, 0.14717951487145817, 0.2636966308113626, 0.9544069833718847, 0.795579365153883, 0.0867904761986054, 0.0867904761986054, 0.0433952380993027, 0.9584176269135785, 0.02889287746886081, 0.02889287746886081, 0.05778575493772162, 0.895679201534685, 0.06373335347929013, 0.7568335725665702, 0.039833345924556327, 0.14340004532840278, 0.9063386256865922, 0.029236729860857815, 0.029236729860857815, 0.029236729860857815, 0.9556859770250604, 0.27011737945683095, 0.5788229559789235, 0.14149005590595906, 0.11149764002114662, 0.891981120169173, 0.09908724502916641, 0.8917852052624977, 0.9162461309190333, 0.05389683123053137, 0.23703977450107724, 0.3663341969562103, 0.03591511734864807, 0.3591511734864807, 0.255404365440805, 0.01761409416833138, 0.3434748362824619, 0.36989597753495895, 0.4900732283868144, 0.16946457430198256, 0.16030432704241593, 0.17862482156154916, 0.3126551163702565, 0.0639521828939161, 0.23449133727769236, 0.39792469356214466, 0.05204479754173117, 0.15613439262519352, 0.7806719631259676, 0.3967265321783633, 0.3315112118202762, 0.043476880238724744, 0.2336882312831455, 0.9241847486865019, 0.9357592129504533, 0.2852773952855588, 0.5251697504120514, 0.0713193488213897, 0.11670438898045586, 0.9765116434759211, 0.9706630356915233, 0.09255541433228681, 0.8947023385454392, 0.015425902388714469, 0.16737199979439116, 0.41842999948597787, 0.2151925711642172, 0.19725985690053244, 0.4768836464437153, 0.15702266407293064, 0.16865397252277736, 0.19773224364739414, 0.8391652579115584, 0.0777004868436628, 0.04662029210619769, 0.04662029210619769, 0.8347173383910795, 0.10433966729888494, 0.034779889099628314, 0.017389944549814157, 0.6918528719363263, 0.19986860744827203, 0.03074901653050339, 0.07687254132625848, 0.04520259688618522, 0.09040519377237044, 0.8136467439513339, 0.22926744284581668, 0.27789993072220204, 0.19452995150554142, 0.2987424255263672, 0.2178037757140368, 0.5575776658279342, 0.04356075514280736, 0.17424302057122945, 0.7656549886335081, 0.030626199545340325, 0.04593929931801049, 0.15313099772670163, 0.8502012851622505, 0.021800032952878218, 0.08720013181151287, 0.06540009885863465, 0.920912228675483, 0.06821572064262836, 0.30244360767475076, 0.06639006022128675, 0.1327801204425735, 0.501613788338611, 0.03284808994346392, 0.9525946083604537, 0.17620357891316568, 0.024668501047843194, 0.5321348083177604, 0.26782943994801184, 0.1967958162220696, 0.14056844015862113, 0.17571055019827642, 0.491989540555174, 0.43808929445102807, 0.2550899689208518, 0.12199955035345085, 0.1885447596371513, 0.04001605963528357, 0.04001605963528357, 0.04001605963528357, 0.8803533119762386, 0.9407773534435698, 0.9548507765784506, 0.06820362689846075, 0.9408455918968675, 0.8370736878326694, 0.1350118851343015, 0.5604383149794053, 0.17513697343106416, 0.12259588140174492, 0.14010957874485133, 0.23654960417531648, 0.6277662572344938, 0.054588370194303806, 0.0818825552914557, 0.44861994924423987, 0.3909402414842662, 0.04486199492442399, 0.1153594155199474, 0.09771831077759152, 0.3478771863682258, 0.019543662155518303, 0.5354963430612015, 0.06481201331579454, 0.056710511651320225, 0.4860900998684591, 0.38887207989476724, 0.08556225271207885, 0.10267470325449461, 0.3422490108483154, 0.4620361646452258, 0.11772691545066176, 0.8476337912447647, 0.03531807463519853, 0.04287490739270713, 0.9432479626395568, 0.021437453696353564, 0.7777674172625051, 0.11110963103750073, 0.06944351939843796, 0.02777740775937518, 0.09613161437011282, 0.8514514415638564, 0.05035465514624957, 0.8953149495445994, 0.0426340452164095, 0.06395106782461425, 0.009559358099493624, 0.9798342051980964, 0.009559358099493624, 0.9587522613232259, 0.03092749230074922, 0.07321585532723084, 0.8673262861841191, 0.03379193322795269, 0.022527955485301794, 0.14617565325161924, 0.22590782775250245, 0.21926347987742886, 0.40530522037948974, 0.15454611485306063, 0.018545533782367278, 0.14836427025893822, 0.6861847499475893, 0.14951093190154005, 0.22426639785231006, 0.49125020481934584, 0.14951093190154005, 0.00676062003275133, 0.18929736091703722, 0.4326796820960851, 0.37183410180132315, 0.9406998164640161, 0.927629331613929, 0.5076204166155368, 0.22892685455210482, 0.09953341502265427, 0.15925346403624682, 0.0989326773002327, 0.1342657763360301, 0.487596766694004, 0.27559817247921964, 0.9030570824850649, 0.03010190274950216, 0.03010190274950216, 0.03010190274950216, 0.7166167067811359, 0.04673587218137843, 0.1246289924836758, 0.10905036842321633, 0.9543154954751635, 0.11037315557453672, 0.8829852445962938, 0.017037033626443293, 0.3492591893420875, 0.22999995395698444, 0.40888880703463903, 0.1331291597455674, 0.18794704905256576, 0.1174669056578536, 0.5638411471576973, 0.9441350782770521, 0.9656063825604686, 0.17893095833112485, 0.7983073525542493, 0.01376391987162499, 0.02541407189958621, 0.17789850329710347, 0.7878362288871725, 0.22381517646101748, 0.48493288233220455, 0.08206556470237307, 0.20889416469694963, 0.08780862940385212, 0.35921712028848596, 0.15166945078847185, 0.3991301336538733, 0.28121496406694163, 0.010415369039516356, 0.583260666212916, 0.12498442847419627, 0.8591735660598456, 0.03304513715614791, 0.06609027431229582, 0.06609027431229582, 0.020613152493979704, 0.974707639358183, 0.0029447360705685288, 0.9600190540367214, 0.9308658326844386, 0.06005586017318958, 0.9345164910881492, 0.08664579262831394, 0.09627310292034884, 0.02888193087610465, 0.7798121336548255, 0.2291665916315882, 0.5382750175532653, 0.026647278096696304, 0.2025193135348919, 0.04333549369589264, 0.9100453676137454, 0.3289778334488466, 0.24673337508663498, 0.19973654173679975, 0.22323495841171737, 0.2607284700395474, 0.1907769292972298, 0.41335001347733125, 0.13990308148463518, 0.9754079097724286, 0.08509156051639091, 0.31715945283382063, 0.0928271569269719, 0.5028137666877645, 0.14837021337779835, 0.5305359145024304, 0.16185841459396183, 0.16185841459396183], \"Term\": [\"Ahab\", \"Ahab\", \"Amsterdam\", \"Arthur\", \"Arthur\", \"Arthur Holmwood\", \"Bedford\", \"Bennet\", \"Bennet\", \"Bildad\", \"Bingley\", \"Bingley\", \"Bingley\", \"Bistritz\", \"Bourgh\", \"Bourgh\", \"Cape\", \"Captain\", \"Captain\", \"Captain\", \"Captain_Ahab\", \"Captain_Peleg\", \"Catherine\", \"Catherine\", \"Charlotte\", \"Charlotte\", \"Clerval\", \"Clerval\", \"Collins\", \"Collins\", \"Colonel\", \"Colonel_Fitzwilliam\", \"Count\", \"Count\", \"Darcy\", \"Darcy\", \"Darcy\", \"Diary\", \"Dracula\", \"Eliza\", \"Elizabeth\", \"Elizabeth\", \"Elizabeth\", \"Elizabeth\", \"Ernest\", \"Felix\", \"Felix\", \"Fitzwilliam\", \"Flask\", \"Frankenstein\", \"Geneva\", \"Geneva\", \"God\", \"God\", \"God\", \"God\", \"Harker\", \"Hawkins\", \"Helsing\", \"Henry\", \"Hertfordshire\", \"Holmwood\", \"Hurst\", \"Ingolstadt\", \"Ingolstadt\", \"Jane\", \"Jane\", \"Jonah\", \"Jonathan\", \"Jonathan\", \"Justine\", \"Justine\", \"Lady\", \"Lady\", \"Lady Catherine\", \"Lady Catherine\", \"Lady_Catherine\", \"Lady_Catherine\", \"Lizzy\", \"Lizzy\", \"Longbourn\", \"Lucas\", \"Lucy\", \"Lucy\", \"Lucy\", \"Lydia\", \"Meryton\", \"Mina\", \"Miss\", \"Miss\", \"Miss\", \"Miss_Bennet\", \"Miss_Bingley\", \"Miss_Lucas\", \"Mrs\", \"Mrs\", \"Mrs\", \"Mrs\", \"Mrs_Bennet\", \"Mrs_Bennet\", \"Mrs_Hurst\", \"Murray\", \"Nantucket\", \"Nantucket\", \"Netherfield\", \"Pass\", \"Peleg\", \"Pequod\", \"Queequeg\", \"Queequeg\", \"Renfield\", \"Rosings\", \"Safie\", \"September\", \"September\", \"September\", \"Seward\", \"Sir_William\", \"Sir_William\", \"Sir_William\", \"Slovaks\", \"Starbuck\", \"Starbuck\", \"Stubb\", \"Switzerland\", \"Transylvania\", \"Van\", \"Van\", \"Van Helsing\", \"Van_Helsing\", \"Victor\", \"Victor\", \"Westenra\", \"Whale\", \"Whale\", \"Wickham\", \"Wickham\", \"abhor\", \"accent\", \"appear\", \"appear\", \"appear\", \"appear\", \"ardour\", \"ask\", \"ask\", \"ask\", \"ask\", \"asleep\", \"asleep\", \"asleep\", \"attention\", \"attention\", \"attention\", \"attention\", \"bed\", \"bed\", \"bed\", \"bed\", \"beheld\", \"beheld\", \"believe\", \"believe\", \"believe\", \"believe\", \"board\", \"board\", \"board\", \"boat\", \"boat\", \"boat\", \"cabin\", \"cabin\", \"captain\", \"captain\", \"castle\", \"castle\", \"castle\", \"chapter\", \"chapter\", \"chapter\", \"chapter\", \"child\", \"child\", \"child\", \"child\", \"close\", \"close\", \"close\", \"close\", \"contemplate\", \"cottage\", \"cottage\", \"cottage\", \"cottager\", \"cottager\", \"country\", \"country\", \"country\", \"country\", \"cousin\", \"cousin\", \"cousin\", \"creator\", \"creature\", \"creature\", \"creature\", \"creature\", \"crew\", \"crew\", \"crime\", \"crime\", \"daemon\", \"dance\", \"dance\", \"dance\", \"dance\", \"daughter\", \"daughter\", \"daughter\", \"daughter\", \"dear\", \"dear\", \"dear\", \"dear\", \"death\", \"death\", \"death\", \"death\", \"deck\", \"deck\", \"despair\", \"despair\", \"despair\", \"despair\", \"destroy\", \"destroy\", \"destroy\", \"destroy\", \"diary\", \"discover\", \"discover\", \"discover\", \"discover\", \"door\", \"door\", \"door\", \"door\", \"driver\", \"driver\", \"endeavour\", \"endeavour\", \"endure\", \"endure\", \"endure\", \"endure\", \"enter\", \"enter\", \"enter\", \"enter\", \"face\", \"face\", \"face\", \"face\", \"fall\", \"fall\", \"fall\", \"fall\", \"family\", \"family\", \"family\", \"family\", \"father\", \"father\", \"father\", \"father\", \"fear\", \"fear\", \"fear\", \"fear\", \"feeling\", \"feeling\", \"feeling\", \"feeling\", \"fiend\", \"fiend\", \"fiend\", \"fiend\", \"fish\", \"fish\", \"fish\", \"fish\", \"fishery\", \"forever\", \"forever\", \"gentle\", \"gentle\", \"gentle\", \"gentle\", \"hatred\", \"head\", \"head\", \"head\", \"head\", \"heart\", \"heart\", \"heart\", \"heart\", \"hope\", \"hope\", \"hope\", \"hope\", \"horror\", \"horror\", \"horror\", \"horror\", \"house\", \"house\", \"house\", \"house\", \"hovel\", \"human\", \"human\", \"human\", \"human\", \"inhabit\", \"key\", \"key\", \"key\", \"key\", \"lady\", \"lady\", \"lady\", \"lady\", \"lake\", \"lake\", \"lake\", \"lake\", \"lance\", \"land\", \"land\", \"land\", \"landlord\", \"landlord\", \"later\", \"later\", \"leg\", \"leg\", \"letter\", \"letter\", \"letter\", \"letter\", \"lie\", \"lie\", \"lie\", \"lie\", \"life\", \"life\", \"life\", \"life\", \"light\", \"light\", \"light\", \"light\", \"lock\", \"lock\", \"lock\", \"love\", \"love\", \"love\", \"love\", \"lunatic\", \"lunch\", \"manner\", \"manner\", \"manner\", \"manner\", \"mast\", \"mast_head\", \"mate\", \"mate\", \"mate\", \"mean\", \"mean\", \"mean\", \"mean\", \"mind\", \"mind\", \"mind\", \"mind\", \"miserable\", \"miserable\", \"miserable\", \"miserable\", \"misery\", \"misery\", \"misery\", \"misery\", \"month\", \"month\", \"month\", \"month\", \"moonlight\", \"moonlight\", \"moonlight\", \"morning\", \"morning\", \"morning\", \"morning\", \"mother\", \"mother\", \"mother\", \"mother\", \"mountain\", \"mountain\", \"mountain\", \"mountain\", \"murder\", \"murder\", \"murder\", \"murder\", \"murderer\", \"murderer\", \"night\", \"night\", \"night\", \"night\", \"oil\", \"oil\", \"old\", \"old\", \"old\", \"old\", \"open\", \"open\", \"open\", \"open\", \"pass\", \"pass\", \"pass\", \"pass\", \"patient\", \"patient\", \"patient\", \"patient\", \"pilot\", \"protector\", \"protector\", \"pulpit\", \"reflect\", \"reflect\", \"remain\", \"remain\", \"remain\", \"remain\", \"reply\", \"reply\", \"reply\", \"reply\", \"return\", \"return\", \"return\", \"return\", \"room\", \"room\", \"room\", \"room\", \"round\", \"round\", \"round\", \"round\", \"run\", \"run\", \"run\", \"run\", \"sail\", \"sail\", \"sail\", \"sailor\", \"sailor\", \"sailor\", \"scene\", \"scene\", \"scene\", \"scene\", \"sea\", \"sea\", \"sea\", \"sensation\", \"sensation\", \"sensation\", \"ship\", \"ship\", \"ship\", \"shipmate\", \"shipmate\", \"sister\", \"sister\", \"sister\", \"sister\", \"sit\", \"sit\", \"sit\", \"sit\", \"sleep\", \"sleep\", \"sleep\", \"sleep\", \"small\", \"small\", \"small\", \"small\", \"sort\", \"sort\", \"sort\", \"sort\", \"sperm\", \"sperm_whale\", \"spirit\", \"spirit\", \"spirit\", \"spirit\", \"stand\", \"stand\", \"stand\", \"stand\", \"tale\", \"tale\", \"tale\", \"tale\", \"tear\", \"tear\", \"tear\", \"tear\", \"thirst\", \"thou\", \"thou\", \"till\", \"till\", \"till\", \"till\", \"try\", \"try\", \"try\", \"try\", \"unfortunate\", \"victim\", \"voyage\", \"voyage\", \"voyage\", \"wake\", \"wake\", \"wake\", \"walk\", \"walk\", \"walk\", \"walk\", \"want\", \"want\", \"want\", \"want\", \"water\", \"water\", \"water\", \"water\", \"weep\", \"weep\", \"weep\", \"weep\", \"whale\", \"whale\", \"whale\", \"whale_ship\", \"whaleman\", \"whaleman\", \"whaling\", \"window\", \"window\", \"window\", \"window\", \"wish\", \"wish\", \"wish\", \"wish\", \"wolf\", \"wolf\", \"word\", \"word\", \"word\", \"word\", \"world\", \"world\", \"world\", \"world\", \"wretch\", \"write\", \"write\", \"write\", \"write\", \"young\", \"young\", \"young\", \"young\"]}, \"R\": 30, \"lambda.step\": 0.01, \"plot.opts\": {\"xlab\": \"PC1\", \"ylab\": \"PC2\"}, \"topic.order\": [1, 3, 2, 4]};\n",
       "\n",
       "function LDAvis_load_lib(url, callback){\n",
       "  var s = document.createElement('script');\n",
       "  s.src = url;\n",
       "  s.async = true;\n",
       "  s.onreadystatechange = s.onload = callback;\n",
       "  s.onerror = function(){console.warn(\"failed to load library \" + url);};\n",
       "  document.getElementsByTagName(\"head\")[0].appendChild(s);\n",
       "}\n",
       "\n",
       "if(typeof(LDAvis) !== \"undefined\"){\n",
       "   // already loaded: just create the visualization\n",
       "   !function(LDAvis){\n",
       "       new LDAvis(\"#\" + \"ldavis_el90571405965840156806394267984\", ldavis_el90571405965840156806394267984_data);\n",
       "   }(LDAvis);\n",
       "}else if(typeof define === \"function\" && define.amd){\n",
       "   // require.js is available: use it to load d3/LDAvis\n",
       "   require.config({paths: {d3: \"https://d3js.org/d3.v5\"}});\n",
       "   require([\"d3\"], function(d3){\n",
       "      window.d3 = d3;\n",
       "      LDAvis_load_lib(\"https://cdn.jsdelivr.net/gh/bmabey/pyLDAvis@3.3.1/pyLDAvis/js/ldavis.v3.0.0.js\", function(){\n",
       "        new LDAvis(\"#\" + \"ldavis_el90571405965840156806394267984\", ldavis_el90571405965840156806394267984_data);\n",
       "      });\n",
       "    });\n",
       "}else{\n",
       "    // require.js not available: dynamically load d3 & LDAvis\n",
       "    LDAvis_load_lib(\"https://d3js.org/d3.v5.js\", function(){\n",
       "         LDAvis_load_lib(\"https://cdn.jsdelivr.net/gh/bmabey/pyLDAvis@3.3.1/pyLDAvis/js/ldavis.v3.0.0.js\", function(){\n",
       "                 new LDAvis(\"#\" + \"ldavis_el90571405965840156806394267984\", ldavis_el90571405965840156806394267984_data);\n",
       "            })\n",
       "         });\n",
       "}\n",
       "</script>"
      ],
      "text/plain": [
       "<IPython.core.display.HTML object>"
      ]
     },
     "execution_count": 52,
     "metadata": {},
     "output_type": "execute_result"
    }
   ],
   "source": [
    "# plot topics\n",
    "data =  pyLDAvis.gensim_models.prepare(model, corpus, dictionary)\n",
    "pyLDAvis.display(data)"
   ]
  },
  {
   "cell_type": "code",
   "execution_count": 53,
   "metadata": {},
   "outputs": [],
   "source": [
    "# assignment\n",
    "sent_to_cluster = list()\n",
    "for n,doc in enumerate(corpus):\n",
    "    if doc:\n",
    "        cluster = max(model[doc],key=lambda x:x[1])\n",
    "        sent_to_cluster.append(cluster[0])"
   ]
  },
  {
   "cell_type": "code",
   "execution_count": 54,
   "metadata": {},
   "outputs": [
    {
     "name": "stdout",
     "output_type": "stream",
     "text": [
      "DRACULA.txt : 3 - 55\n",
      "Accuracy: 0.9166666666666666\n",
      "------\n",
      "Frankenstein.txt : 0 - 60\n",
      "Accuracy: 1.0\n",
      "------\n",
      "Moby_Dick.txt : 1 - 52\n",
      "Accuracy: 0.8666666666666667\n",
      "------\n",
      "PRIDE_AND_PREJUDICE.txt : 2 - 60\n",
      "Accuracy: 1.0\n",
      "------\n"
     ]
    }
   ],
   "source": [
    "# accuracy\n",
    "from collections import Counter\n",
    "for book, cluster in book_id.items():\n",
    "    assignments = list()\n",
    "    for real,given in zip(chunk_class,sent_to_cluster):\n",
    "        if real == cluster:\n",
    "            assignments.append(given)\n",
    "    most_common,num_most_common = Counter(assignments).most_common(1)[0] # 4, 6 times\n",
    "    print(book,\":\",most_common,\"-\",num_most_common)\n",
    "    print(\"Accuracy:\",num_most_common/limit)\n",
    "    print(\"------\")"
   ]
  },
  {
   "cell_type": "markdown",
   "metadata": {},
   "source": [
    "# Task 4: Semantic analysis based on lexical categories"
   ]
  },
  {
   "cell_type": "code",
   "execution_count": 55,
   "metadata": {},
   "outputs": [],
   "source": [
    "from empath import Empath\n",
    "lexicon = Empath()"
   ]
  },
  {
   "cell_type": "markdown",
   "metadata": {},
   "source": [
    "### Let's see what pre-build categories we can study! More information: https://hci.stanford.edu/publications/2016/ethan/empath-chi-2016.pdf"
   ]
  },
  {
   "cell_type": "code",
   "execution_count": 56,
   "metadata": {},
   "outputs": [
    {
     "name": "stdout",
     "output_type": "stream",
     "text": [
      "help\n",
      "office\n",
      "dance\n",
      "money\n",
      "wedding\n",
      "domestic_work\n",
      "sleep\n",
      "medical_emergency\n",
      "cold\n",
      "hate\n",
      "cheerfulness\n",
      "aggression\n",
      "occupation\n",
      "envy\n",
      "anticipation\n"
     ]
    }
   ],
   "source": [
    "for cat in list(lexicon.cats.keys())[:15]:\n",
    "    print(cat)"
   ]
  },
  {
   "cell_type": "markdown",
   "metadata": {},
   "source": [
    "### For each category, we can examine representative terms"
   ]
  },
  {
   "cell_type": "code",
   "execution_count": 57,
   "metadata": {},
   "outputs": [
    {
     "data": {
      "text/plain": [
       "['rehab',\n",
       " 'neurologist',\n",
       " 'diabetes',\n",
       " 'injection',\n",
       " 'diabetic',\n",
       " 'schizophrenia',\n",
       " 'pneumonia',\n",
       " 'disease',\n",
       " 'bedridden',\n",
       " 'dosage',\n",
       " 'physician',\n",
       " 'pharmacy',\n",
       " 'med',\n",
       " 'dehydrated',\n",
       " 'medication']"
      ]
     },
     "execution_count": 57,
     "metadata": {},
     "output_type": "execute_result"
    }
   ],
   "source": [
    "lexicon.cats[\"health\"][:15]"
   ]
  },
  {
   "cell_type": "markdown",
   "metadata": {},
   "source": [
    "### Studying Pride and Prejudice"
   ]
  },
  {
   "cell_type": "code",
   "execution_count": 59,
   "metadata": {},
   "outputs": [],
   "source": [
    "nlp = spacy.load('en_core_web_sm')\n",
    "doc = nlp(books[3])"
   ]
  },
  {
   "cell_type": "code",
   "execution_count": 60,
   "metadata": {},
   "outputs": [],
   "source": [
    "empath_features = lexicon.analyze(doc.text,categories = [\"disappointment\", \"pain\", \"joy\", \"beauty\", \"affection\"])"
   ]
  },
  {
   "cell_type": "code",
   "execution_count": 61,
   "metadata": {},
   "outputs": [
    {
     "data": {
      "text/plain": [
       "{'disappointment': 149.0,\n",
       " 'pain': 228.0,\n",
       " 'joy': 278.0,\n",
       " 'beauty': 136.0,\n",
       " 'affection': 439.0}"
      ]
     },
     "execution_count": 61,
     "metadata": {},
     "output_type": "execute_result"
    }
   ],
   "source": [
    "empath_features"
   ]
  },
  {
   "cell_type": "code",
   "execution_count": 62,
   "metadata": {},
   "outputs": [],
   "source": [
    "empath_features = lexicon.analyze(doc.text,categories = [\"disappointment\", \"pain\", \"joy\", \"beauty\", \"affection\"], normalize = True)"
   ]
  },
  {
   "cell_type": "code",
   "execution_count": 63,
   "metadata": {},
   "outputs": [
    {
     "data": {
      "text/plain": [
       "{'disappointment': 0.0012256615693403638,\n",
       " 'pain': 0.001875508978587939,\n",
       " 'joy': 0.002286804807225645,\n",
       " 'beauty': 0.0011187246538945602,\n",
       " 'affection': 0.0036111773754390585}"
      ]
     },
     "execution_count": 63,
     "metadata": {},
     "output_type": "execute_result"
    }
   ],
   "source": [
    "empath_features"
   ]
  },
  {
   "cell_type": "markdown",
   "metadata": {},
   "source": [
    "### Usecase: the evolution of topics"
   ]
  },
  {
   "cell_type": "code",
   "execution_count": 64,
   "metadata": {},
   "outputs": [],
   "source": [
    "bins = range(0,len(doc.text),150000)\n"
   ]
  },
  {
   "cell_type": "code",
   "execution_count": 65,
   "metadata": {},
   "outputs": [],
   "source": [
    "love = []\n",
    "pain = []\n",
    "beauty = []\n",
    "affection = []\n",
    "\n",
    "\n",
    "for cnt,i in enumerate(bins[:-1]):\n",
    "    empath_features = lexicon.analyze(doc.text[bins[cnt]:bins[cnt+1]],\n",
    "                                      categories = [\"love\", \"pain\", \"joy\", \"beauty\", \"affection\"], normalize = True)\n",
    "    love.append(empath_features[\"love\"])\n",
    "    pain.append(empath_features[\"pain\"])\n",
    "    beauty.append(empath_features[\"beauty\"])\n",
    "    affection.append(empath_features[\"affection\"])"
   ]
  },
  {
   "cell_type": "code",
   "execution_count": 66,
   "metadata": {},
   "outputs": [
    {
     "data": {
      "text/plain": [
       "<matplotlib.legend.Legend at 0x7fdf4737b670>"
      ]
     },
     "execution_count": 66,
     "metadata": {},
     "output_type": "execute_result"
    },
    {
     "data": {
      "image/png": "[encoded data removed]",
      "text/plain": [
       "<Figure size 640x480 with 1 Axes>"
      ]
     },
     "metadata": {},
     "output_type": "display_data"
    }
   ],
   "source": [
    "plt.plot(love,label = \"love\")\n",
    "plt.plot(beauty, label = \"beauty\")\n",
    "plt.plot(affection, label = \"affection\")\n",
    "plt.plot(pain,label = \"pain\")\n",
    "\n",
    "plt.xlabel(\"progression in the book\")\n",
    "plt.ylabel(\"frequency of a category\")\n",
    "plt.legend()"
   ]
  },
  {
   "cell_type": "code",
   "execution_count": 67,
   "metadata": {},
   "outputs": [],
   "source": [
    "# We can observe how as the story progresses, beauty and affection categories decrease, while love and pain intensify!"
   ]
  },
  {
   "cell_type": "markdown",
   "metadata": {},
   "source": [
    "### We can create custom categories based on seed terms!\n",
    "### Models trained on: fiction, nytimes or reddit"
   ]
  },
  {
   "cell_type": "code",
   "execution_count": 134,
   "metadata": {},
   "outputs": [
    {
     "name": "stdout",
     "output_type": "stream",
     "text": [
      "[\"avocado\", \"kale\", \"Swiss_chard\", \"escarole\", \"black_beans\", \"cucumber\", \"dill\", \"leek\", \"mango\", \"red_peppers\", \"chicory\", \"chanterelles\", \"chutney\", \"tamarind\", \"papaya\", \"black_olives\", \"endive\", \"pesto\", \"walnuts\", \"green_beans\", \"bok_choy\", \"portobello_mushrooms\", \"lemon_grass\", \"radicchio\", \"ricotta\", \"chicken_breast\", \"porcini\", \"blue_cheese\", \"snow_peas\", \"pickled\", \"Gorgonzola\", \"chorizo\", \"yams\", \"hazelnuts\", \"fresh_tomatoes\", \"shiitake_mushrooms\", \"anchovies\", \"wild_rice\", \"scallion\", \"red_onions\", \"broccoli_rape\", \"red_cabbage\", \"wasabi\", \"sweet_potato\", \"feta\", \"roasted_garlic\", \"compote\", \"napoleon\", \"aioli\", \"crab_meat\", \"cauliflower\", \"jicama\", \"parsnips\", \"apricots\", \"new_potatoes\", \"truffle_oil\", \"lemongrass\", \"pistachios\", \"saut\\u00e9ed\", \"gnocchi\", \"duck_confit\", \"fresh_herbs\", \"ratatouille\", \"white_beans\", \"croutons\", \"fresh_mozzarella\", \"squab\", \"watercress\", \"roasted_red_peppers\", \"pine_nuts\", \"fritters\", \"butternut_squash\", \"fava_beans\", \"drizzled\", \"red_onion\", \"pea_shoots\", \"rosemary\", \"romaine\", \"mustard_greens\", \"horseradish\", \"caramelized_onions\", \"artichoke_hearts\", \"fettuccine\", \"grilled_eggplant\", \"julienne\", \"plum_tomatoes\", \"grilled_chicken\", \"pineapple\", \"candied\", \"pancetta\", \"celery_root\", \"sea_scallops\", \"shiitake\", \"porcini_mushrooms\", \"sour_cream\", \"bean_sprouts\", \"oyster_mushrooms\", \"monkfish\", \"chickpeas\", \"coconut_milk\"]\n"
     ]
    }
   ],
   "source": [
    "lexicon.create_category(\"healthy_food\", [\"healthy_food\",\"low_carb\",\"kale\",\"avocado\"], model=\"nytimes\")"
   ]
  },
  {
   "cell_type": "code",
   "execution_count": 135,
   "metadata": {},
   "outputs": [
    {
     "name": "stdout",
     "output_type": "stream",
     "text": [
      "[\"green_vegetables\", \"leafy_greens\", \"whole_grain_bread\", \"brown_rice\", \"white_rice\", \"green_veggies\", \"veggies\", \"whole_wheat_bread\", \"sweet_potatoes\", \"raw_veggies\", \"lean_meat\", \"spinach\", \"fatty_meat\", \"kale\", \"sweet_potato\", \"avocado\", \"hummus\", \"chicken_breast\", \"veggie\", \"whole_grain\", \"vegetables\", \"whole_wheat_pasta\", \"salads\", \"broccoli\", \"greek_yogurt\", \"Greek_yogurt\", \"yogurt\", \"avocados\", \"rice_cakes\", \"raw_vegetables\", \"almonds\", \"lean_protein\", \"grilled_chicken\", \"quinoa\", \"steamed_broccoli\", \"whole_grain_pasta\", \"brocolli\", \"kale\", \"avocado\", \"tofu\", \"Veggies\", \"edamame\", \"more_veggies\", \"lean_meats\", \"quinoa\", \"salad\", \"cottage_cheese\", \"whole_wheat\", \"wheat_bread\", \"romaine_lettuce\", \"white_bread\", \"raw_spinach\", \"oatmeal\", \"white_potatoes\", \"almond_butter\", \"pork_rinds\", \"veg\", \"cashews\", \"greek_yoghurt\", \"baby_carrots\", \"fresh_veggies\", \"fatty_meats\", \"more_vegetables\", \"avacado\", \"veges\", \"nut_butter\", \"hard_boiled_eggs\", \"carrot_sticks\", \"whole_grains\", \"grilled_chicken_breast\", \"steamed_vegetables\", \"meats\", \"lentils\", \"green_beans\", \"low_cal\", \"nuts/seeds\", \"iceberg_lettuce\", \"carrots\", \"red_meat\", \"other_foods\", \"fried_foods\", \"smoothies\", \"healthy_fats\", \"vegies\", \"avacados\", \"other_vegetables\", \"fresh_fruit\", \"spinach_salad\", \"egg_whites\", \"steamed_veggies\", \"nut_butters\", \"ground_turkey\", \"baked_chicken\"]\n"
     ]
    }
   ],
   "source": [
    "lexicon.create_category(\"healthy_food\", [\"healthy_food\",\"low_carb\",\"kale\",\"avocado\"], model=\"reddit\")"
   ]
  },
  {
   "cell_type": "code",
   "execution_count": 136,
   "metadata": {},
   "outputs": [
    {
     "name": "stdout",
     "output_type": "stream",
     "text": [
      "[\"turkey\", \"roast_beef\", \"white_bread\", \"fried_chicken\", \"pancakes\", \"peanut_butter\", \"gefilte_fish\", \"stuffing\", \"French_fries\", \"meatloaf\", \"brisket\", \"potato_salad\", \"pumpkin_pie\", \"scrambled_eggs\", \"french_fries\", \"spaghetti\", \"gravy\", \"tamales\", \"pot_roast\", \"oatmeal\", \"lasagna\", \"corned_beef\", \"latkes\", \"pickles\", \"sauerkraut\", \"burger\", \"grits\", \"biscuits\", \"hamburger\", \"salad_bar\", \"corn_bread\", \"chicken_soup\", \"bacon\", \"cream_cheese\", \"brownies\", \"tofu\", \"pastrami\", \"pork_chops\", \"salami\", \"marshmallows\", \"collard_greens\", \"macaroni\", \"pies\", \"raw_fish\", \"eggnog\", \"cheeseburgers\", \"truffles\", \"chocolate_cake\", \"hard-boiled_eggs\", \"baked_potatoes\", \"venison\", \"cottage_cheese\", \"pheasant\", \"applesauce\", \"quail\", \"fruit_salad\", \"meatballs\", \"chocolate_chip_cookies\", \"tacos\", \"roast\", \"jelly\", \"chicken_salad\", \"omelet\", \"gumbo\", \"steaks\", \"soup\", \"lox\", \"sausage\", \"roast_chicken\", \"rye\", \"bagel\", \"fruitcake\", \"fries\", \"fried_eggs\", \"ketchup\", \"chicken_wings\", \"barbecue_sauce\", \"sweet_potatoes\", \"pasta\", \"sausages\", \"crackers\", \"omelets\", \"roasting\", \"French_toast\", \"muffins\", \"mashed_potatoes\", \"fresh_fruit\", \"baked_potato\", \"waffles\", \"cranberry_sauce\", \"baked_beans\", \"cheese\", \"tripe\", \"noodles\", \"maple_syrup\", \"quiche\", \"buns\", \"baklava\", \"stews\"]\n"
     ]
    }
   ],
   "source": [
    "lexicon.create_category(\"festive_food\", [\"festive_food\",\"turkey\",\"eggnog\"], model=\"nytimes\")"
   ]
  },
  {
   "cell_type": "markdown",
   "metadata": {},
   "source": [
    "### List of further resources\n",
    "    * NLTK\n",
    "    * Jellyfish: string similarity library\n",
    "    * TextBlob: simplified text processing\n",
    "    * PyEnchant: language detection\n",
    "    * WordNet: ontology of concepts (inc. in NLTK)\n",
    "    * Stanford NLP (Java)\n",
    "    * Tweet NLP: https://www.cs.cmu.edu/~ark/TweetNLP/"
   ]
  },
  {
   "cell_type": "markdown",
   "metadata": {},
   "source": [
    "## Part 2"
   ]
  },
  {
   "cell_type": "markdown",
   "metadata": {},
   "source": [
    "### Question 1:\n",
    "An NLP preprocessing model, using the list of stopwords ['a', 'the', 'is', 'you', 'I','my','with','was'] for the input sentence\n",
    "“I was driving down the street with my CAR! :)” <br>\n",
    "gives the following output: {driving, down, street, car, :)}.\n",
    "The model consists of: <br>\n",
    "\n",
    "a) Stopword Removal, Casefolding and Stemming <br>\n",
    "b) Stopword Removal and Casefolding <br>\n",
    "c) Stopword Removal and Stemming <br>\n",
    "d) Casefolding and Stemming <br>"
   ]
  },
  {
   "cell_type": "code",
   "execution_count": 68,
   "metadata": {},
   "outputs": [],
   "source": [
    "# write your code and/or answer here\n",
    "# b)"
   ]
  },
  {
   "cell_type": "markdown",
   "metadata": {},
   "source": [
    "### Question 2:\n",
    "What statement is false about topic detection using LSA: <br>\n",
    "\n",
    "a) It finds the representation of documents and words in the latent \"topic space\" <br>\n",
    "b) It produces topics interpretable in “word space” <br>\n",
    "c) A document's topic representation is a probability distribution over topics <br>\n",
    "d) The vectors representing topics in “word space” are linearly independent <br>"
   ]
  },
  {
   "cell_type": "code",
   "execution_count": 70,
   "metadata": {},
   "outputs": [],
   "source": [
    "# write your code and/or answer here\n",
    "# d (?)"
   ]
  },
  {
   "cell_type": "markdown",
   "metadata": {},
   "source": [
    "### Question 3:\n",
    "The problem of having more features than documents when using a TF-IDF matrix for document classification cannot be addressed by: <br>\n",
    "\n",
    "a) Using SVD for dimensionality reduction <br>\n",
    "b) Using min-max scaling of features <br>\n",
    "c) Penalizing very large positive and very large negative weights (a.k.a. regularization) <br>\n",
    "d) Using online feature selection <br>"
   ]
  },
  {
   "cell_type": "code",
   "execution_count": 71,
   "metadata": {},
   "outputs": [],
   "source": [
    "# write your code and/or answer here\n",
    "# a(?)"
   ]
  },
  {
   "cell_type": "markdown",
   "metadata": {},
   "source": [
    "### Question 4:\n",
    "Which of the following is false about word vectors: <br>\n",
    "\n",
    "a) Word2vec is used to achieve a lower dimensional representation than bag of words <br>\n",
    "b) Semantically similar words typically have similar word2vec vectors <br>\n",
    "c) Each dimension in the word2vec embedding has a clear interpretation <br>\n",
    "d) Word2Vec can be used for the computation of sentence vectors <br>"
   ]
  },
  {
   "cell_type": "code",
   "execution_count": 72,
   "metadata": {},
   "outputs": [],
   "source": [
    "# write your code and/or answer here\n",
    "# c"
   ]
  },
  {
   "cell_type": "markdown",
   "metadata": {},
   "source": [
    "### Question 5:\n",
    "Given the following word (W) / context (C) co-occurrence frequencies, which statement is true regarding the pointwise mutual information (PMI)?\n",
    "\n",
    "|  |W1|W2|W3|\n",
    "|--|--|--|--|\n",
    "|C1| 2| 0| 3|\n",
    "|C2| 6| 4| 0|\n",
    "|C3| 1| 1| 3|\n",
    "\n",
    "a) PMI(w=W1, c=C2) > PMI(w=W2, c=C2) > PMI(w=W3, c=C3) <br>\n",
    "b) PMI(w=W2, c=C2) > PMI(w=W1, c=C2) >  PMI(w=W3, c=C3) <br>\n",
    "c) PMI(w=W3, c=C3) > PMI(w=W1, c=C2) > PMI(w=W2, c=C2) <br>\n",
    "d) PMI(w=W3, c=C3) > PMI(w=W2, c=C2) > PMI(w=W1, c=C2) <br>"
   ]
  },
  {
   "cell_type": "code",
   "execution_count": 74,
   "metadata": {},
   "outputs": [],
   "source": [
    "# write your code and/or answer here\n",
    "# PMI(w, c) = P(w, c) / P(w) * P(c)\n",
    "\n",
    "# PMI(w2, c1) = PMI(w3, c1) = 0\n",
    "# PMI(w1, c2) = 6 / (9 * 10) = 2 / 30  \n",
    "# PMI(w2, c2) = 4 / (5 * 10) = 2 / 25\n",
    "# PMI(w3, c3) = 3 / (6 * 5) = 1 / 10 = 2 / 20\n",
    "\n",
    "# PMI(w3, c3) > PMI(w2, c2) > PMI(w1, c2)\n",
    "# P(w, c) = cooc[w, c]"
   ]
  },
  {
   "cell_type": "code",
   "execution_count": null,
   "metadata": {
    "collapsed": true,
    "jupyter": {
     "outputs_hidden": true
    }
   },
   "outputs": [],
   "source": []
  }
 ],
 "metadata": {
  "kernelspec": {
   "display_name": "Python 3.9.13 ('ada')",
   "language": "python",
   "name": "python3"
  },
  "language_info": {
   "codemirror_mode": {
    "name": "ipython",
    "version": 3
   },
   "file_extension": ".py",
   "mimetype": "text/x-python",
   "name": "python",
   "nbconvert_exporter": "python",
   "pygments_lexer": "ipython3",
   "version": "3.9.13"
  },
  "toc": {
   "colors": {
    "hover_highlight": "#DAA520",
    "navigate_num": "#000000",
    "navigate_text": "#333333",
    "running_highlight": "#FF0000",
    "selected_highlight": "#FFD700",
    "sidebar_border": "#EEEEEE",
    "wrapper_background": "#FFFFFF"
   },
   "moveMenuLeft": true,
   "nav_menu": {
    "height": "228px",
    "width": "252px"
   },
   "navigate_menu": true,
   "number_sections": true,
   "sideBar": true,
   "threshold": 4,
   "toc_cell": false,
   "toc_section_display": "block",
   "toc_window_display": false,
   "widenNotebook": false
  },
  "varInspector": {
   "cols": {
    "lenName": 16,
    "lenType": 16,
    "lenVar": 40
   },
   "kernels_config": {
    "python": {
     "delete_cmd_postfix": "",
     "delete_cmd_prefix": "del ",
     "library": "var_list.py",
     "varRefreshCmd": "print(var_dic_list())"
    },
    "r": {
     "delete_cmd_postfix": ") ",
     "delete_cmd_prefix": "rm(",
     "library": "var_list.r",
     "varRefreshCmd": "cat(var_dic_list()) "
    }
   },
   "types_to_exclude": [
    "module",
    "function",
    "builtin_function_or_method",
    "instance",
    "_Feature"
   ],
   "window_display": false
  },
  "vscode": {
   "interpreter": {
    "hash": "535adef2246893f336cffff7ecb8b5976b9bc4ae850dd312d30c713b14d02600"
   }
  }
 },
 "nbformat": 4,
 "nbformat_minor": 4
}
